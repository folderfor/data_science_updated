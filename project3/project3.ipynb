{
 "cells": [
  {
   "cell_type": "markdown",
   "id": "42289889-bd57-434e-9637-d3e354756316",
   "metadata": {
    "id": "42289889-bd57-434e-9637-d3e354756316"
   },
   "source": [
    "<center> <img src = https://raw.githubusercontent.com/AndreyRysistov/DatasetsForPandas/main/hh%20label.jpg alt=\"drawing\" style=\"width:400px;\">"
   ]
  },
  {
   "cell_type": "markdown",
   "id": "829cb75b-f14e-4ba8-9195-7ba929a7d656",
   "metadata": {
    "id": "829cb75b-f14e-4ba8-9195-7ba929a7d656",
    "tags": []
   },
   "source": [
    "# <center> Проект: Анализ вакансий из HeadHunter\n",
    "   "
   ]
  },
  {
   "cell_type": "code",
   "execution_count": 1,
   "id": "dccfde33-2452-43fb-a8a5-5c6ebc02a71d",
   "metadata": {
    "id": "dccfde33-2452-43fb-a8a5-5c6ebc02a71d"
   },
   "outputs": [],
   "source": [
    "import pandas as pd\n",
    "import psycopg2\n",
    "import requests\n",
    "from bs4 import BeautifulSoup\n",
    "import plotly as pl\n",
    "import plotly.express as px\n",
    "from collections import Counter"
   ]
  },
  {
   "cell_type": "code",
   "execution_count": 1,
   "id": "oVKH4ehvf8Ay",
   "metadata": {
    "id": "oVKH4ehvf8Ay"
   },
   "outputs": [],
   "source": [
    "# вставьте сюда параметры подключения из юнита 1. Работа с базой данных из Python \n",
    "DBNAME = ''\n",
    "USER = ''\n",
    "PASSWORD = ''\n",
    "HOST = ''\n",
    "PORT = ''"
   ]
  },
  {
   "cell_type": "code",
   "execution_count": 3,
   "id": "G4X_q8KBf7SF",
   "metadata": {
    "id": "G4X_q8KBf7SF"
   },
   "outputs": [],
   "source": [
    "connection = psycopg2.connect(\n",
    "    dbname=DBNAME,\n",
    "    user=USER,\n",
    "    host=HOST,\n",
    "    password=PASSWORD,\n",
    "    port=PORT\n",
    ")"
   ]
  },
  {
   "cell_type": "markdown",
   "id": "0dc6476b-7a00-44f1-ac93-6e3baed33a29",
   "metadata": {
    "id": "0dc6476b-7a00-44f1-ac93-6e3baed33a29"
   },
   "source": [
    "# Юнит 3. Предварительный анализ данных"
   ]
  },
  {
   "cell_type": "markdown",
   "id": "889782b6-8d1c-410e-8920-e57f27917c64",
   "metadata": {
    "id": "889782b6-8d1c-410e-8920-e57f27917c64"
   },
   "source": [
    "### 1. Напишите запрос, который посчитает количество вакансий в нашей базе (вакансии находятся в таблице vacancies). "
   ]
  },
  {
   "cell_type": "code",
   "execution_count": 4,
   "id": "bc39e68e-ed02-4ee2-9235-7258a2f867a8",
   "metadata": {
    "id": "bc39e68e-ed02-4ee2-9235-7258a2f867a8"
   },
   "outputs": [],
   "source": [
    "# текст запроса\n",
    "query = f'''\n",
    "SELECT count(*)\n",
    "FROM public.vacancies\n",
    "'''"
   ]
  },
  {
   "cell_type": "code",
   "execution_count": 5,
   "id": "a1888370-ac4e-466e-a2e7-ff16cb22e0e1",
   "metadata": {},
   "outputs": [
    {
     "name": "stderr",
     "output_type": "stream",
     "text": [
      "D:\\Temp\\ipykernel_15508\\763091750.py:2: UserWarning: pandas only supports SQLAlchemy connectable (engine/connection) or database string URI or sqlite3 DBAPI2 connection. Other DBAPI2 objects are not tested. Please consider using SQLAlchemy.\n",
      "  pd.read_sql_query(query, connection)\n"
     ]
    },
    {
     "data": {
      "text/html": [
       "<div>\n",
       "<style scoped>\n",
       "    .dataframe tbody tr th:only-of-type {\n",
       "        vertical-align: middle;\n",
       "    }\n",
       "\n",
       "    .dataframe tbody tr th {\n",
       "        vertical-align: top;\n",
       "    }\n",
       "\n",
       "    .dataframe thead th {\n",
       "        text-align: right;\n",
       "    }\n",
       "</style>\n",
       "<table border=\"1\" class=\"dataframe\">\n",
       "  <thead>\n",
       "    <tr style=\"text-align: right;\">\n",
       "      <th></th>\n",
       "      <th>count</th>\n",
       "    </tr>\n",
       "  </thead>\n",
       "  <tbody>\n",
       "    <tr>\n",
       "      <th>0</th>\n",
       "      <td>49197</td>\n",
       "    </tr>\n",
       "  </tbody>\n",
       "</table>\n",
       "</div>"
      ],
      "text/plain": [
       "   count\n",
       "0  49197"
      ]
     },
     "execution_count": 5,
     "metadata": {},
     "output_type": "execute_result"
    }
   ],
   "source": [
    "# результат запроса\n",
    "pd.read_sql_query(query, connection)"
   ]
  },
  {
   "cell_type": "markdown",
   "id": "b583485d-1f9e-494e-ada4-80ffff7c53d6",
   "metadata": {
    "id": "b583485d-1f9e-494e-ada4-80ffff7c53d6"
   },
   "source": [
    "### 2. Напишите запрос, который посчитает количество работодателей (таблица employers). "
   ]
  },
  {
   "cell_type": "code",
   "execution_count": 6,
   "id": "5408c52c-3407-4a63-b25b-1aafa2322d28",
   "metadata": {
    "id": "5408c52c-3407-4a63-b25b-1aafa2322d28"
   },
   "outputs": [],
   "source": [
    "# текст запроса\n",
    "query = f'''\n",
    "SELECT count(*)\n",
    "FROM public.employers \n",
    "'''"
   ]
  },
  {
   "cell_type": "code",
   "execution_count": 7,
   "id": "jVL4eshKhdqc",
   "metadata": {
    "id": "jVL4eshKhdqc"
   },
   "outputs": [
    {
     "name": "stderr",
     "output_type": "stream",
     "text": [
      "D:\\Temp\\ipykernel_15508\\763091750.py:2: UserWarning: pandas only supports SQLAlchemy connectable (engine/connection) or database string URI or sqlite3 DBAPI2 connection. Other DBAPI2 objects are not tested. Please consider using SQLAlchemy.\n",
      "  pd.read_sql_query(query, connection)\n"
     ]
    },
    {
     "data": {
      "text/html": [
       "<div>\n",
       "<style scoped>\n",
       "    .dataframe tbody tr th:only-of-type {\n",
       "        vertical-align: middle;\n",
       "    }\n",
       "\n",
       "    .dataframe tbody tr th {\n",
       "        vertical-align: top;\n",
       "    }\n",
       "\n",
       "    .dataframe thead th {\n",
       "        text-align: right;\n",
       "    }\n",
       "</style>\n",
       "<table border=\"1\" class=\"dataframe\">\n",
       "  <thead>\n",
       "    <tr style=\"text-align: right;\">\n",
       "      <th></th>\n",
       "      <th>count</th>\n",
       "    </tr>\n",
       "  </thead>\n",
       "  <tbody>\n",
       "    <tr>\n",
       "      <th>0</th>\n",
       "      <td>23501</td>\n",
       "    </tr>\n",
       "  </tbody>\n",
       "</table>\n",
       "</div>"
      ],
      "text/plain": [
       "   count\n",
       "0  23501"
      ]
     },
     "execution_count": 7,
     "metadata": {},
     "output_type": "execute_result"
    }
   ],
   "source": [
    "# результат запроса\n",
    "pd.read_sql_query(query, connection)"
   ]
  },
  {
   "cell_type": "markdown",
   "id": "a2bfff1f-c975-4bf6-84be-2185d79dcb76",
   "metadata": {
    "id": "a2bfff1f-c975-4bf6-84be-2185d79dcb76"
   },
   "source": [
    "### 3. Посчитате с помощью запроса количество регионов (таблица areas)."
   ]
  },
  {
   "cell_type": "code",
   "execution_count": 8,
   "id": "1m8QJwBYhey6",
   "metadata": {
    "id": "1m8QJwBYhey6"
   },
   "outputs": [],
   "source": [
    "# текст запроса\n",
    "query = f'''\n",
    "SELECT count(*)\n",
    "FROM public.areas \n",
    "'''"
   ]
  },
  {
   "cell_type": "code",
   "execution_count": 9,
   "id": "EZsn9tlfhe7f",
   "metadata": {
    "id": "EZsn9tlfhe7f"
   },
   "outputs": [
    {
     "name": "stderr",
     "output_type": "stream",
     "text": [
      "D:\\Temp\\ipykernel_15508\\763091750.py:2: UserWarning: pandas only supports SQLAlchemy connectable (engine/connection) or database string URI or sqlite3 DBAPI2 connection. Other DBAPI2 objects are not tested. Please consider using SQLAlchemy.\n",
      "  pd.read_sql_query(query, connection)\n"
     ]
    },
    {
     "data": {
      "text/html": [
       "<div>\n",
       "<style scoped>\n",
       "    .dataframe tbody tr th:only-of-type {\n",
       "        vertical-align: middle;\n",
       "    }\n",
       "\n",
       "    .dataframe tbody tr th {\n",
       "        vertical-align: top;\n",
       "    }\n",
       "\n",
       "    .dataframe thead th {\n",
       "        text-align: right;\n",
       "    }\n",
       "</style>\n",
       "<table border=\"1\" class=\"dataframe\">\n",
       "  <thead>\n",
       "    <tr style=\"text-align: right;\">\n",
       "      <th></th>\n",
       "      <th>count</th>\n",
       "    </tr>\n",
       "  </thead>\n",
       "  <tbody>\n",
       "    <tr>\n",
       "      <th>0</th>\n",
       "      <td>1362</td>\n",
       "    </tr>\n",
       "  </tbody>\n",
       "</table>\n",
       "</div>"
      ],
      "text/plain": [
       "   count\n",
       "0   1362"
      ]
     },
     "execution_count": 9,
     "metadata": {},
     "output_type": "execute_result"
    }
   ],
   "source": [
    "# результат запроса\n",
    "pd.read_sql_query(query, connection)"
   ]
  },
  {
   "cell_type": "markdown",
   "id": "41bb59f3-53cc-4a67-a5bc-bedf573955e4",
   "metadata": {
    "id": "41bb59f3-53cc-4a67-a5bc-bedf573955e4"
   },
   "source": [
    "### 4. Посчитате с помощью запроса количество сфер деятельности в базе (таблица industries)."
   ]
  },
  {
   "cell_type": "code",
   "execution_count": 10,
   "id": "d286cf4c-707b-4cd2-9190-7ab3587d04a1",
   "metadata": {
    "id": "d286cf4c-707b-4cd2-9190-7ab3587d04a1"
   },
   "outputs": [],
   "source": [
    "# текст запроса\n",
    "query = f'''\n",
    "SELECT count(*)\n",
    "FROM public.industries\n",
    "'''"
   ]
  },
  {
   "cell_type": "code",
   "execution_count": 11,
   "id": "JYAaoZ4qhfzW",
   "metadata": {
    "id": "JYAaoZ4qhfzW"
   },
   "outputs": [
    {
     "name": "stderr",
     "output_type": "stream",
     "text": [
      "D:\\Temp\\ipykernel_15508\\763091750.py:2: UserWarning: pandas only supports SQLAlchemy connectable (engine/connection) or database string URI or sqlite3 DBAPI2 connection. Other DBAPI2 objects are not tested. Please consider using SQLAlchemy.\n",
      "  pd.read_sql_query(query, connection)\n"
     ]
    },
    {
     "data": {
      "text/html": [
       "<div>\n",
       "<style scoped>\n",
       "    .dataframe tbody tr th:only-of-type {\n",
       "        vertical-align: middle;\n",
       "    }\n",
       "\n",
       "    .dataframe tbody tr th {\n",
       "        vertical-align: top;\n",
       "    }\n",
       "\n",
       "    .dataframe thead th {\n",
       "        text-align: right;\n",
       "    }\n",
       "</style>\n",
       "<table border=\"1\" class=\"dataframe\">\n",
       "  <thead>\n",
       "    <tr style=\"text-align: right;\">\n",
       "      <th></th>\n",
       "      <th>count</th>\n",
       "    </tr>\n",
       "  </thead>\n",
       "  <tbody>\n",
       "    <tr>\n",
       "      <th>0</th>\n",
       "      <td>294</td>\n",
       "    </tr>\n",
       "  </tbody>\n",
       "</table>\n",
       "</div>"
      ],
      "text/plain": [
       "   count\n",
       "0    294"
      ]
     },
     "execution_count": 11,
     "metadata": {},
     "output_type": "execute_result"
    }
   ],
   "source": [
    "# результат запроса\n",
    "pd.read_sql_query(query, connection)"
   ]
  },
  {
   "cell_type": "markdown",
   "id": "9a8a2181-6914-448b-85f1-38f5f18b8a93",
   "metadata": {
    "id": "9a8a2181-6914-448b-85f1-38f5f18b8a93"
   },
   "source": [
    "***"
   ]
  },
  {
   "cell_type": "markdown",
   "id": "8d696205-eab3-48e9-9899-94288f301ca1",
   "metadata": {
    "id": "be4e9bd3-a4db-4a20-82fb-6b02fc2957e0"
   },
   "source": [
    "# выводы по предварительному анализу данных\n",
    "*1. Общее количество вакансий 49197.\\\n",
    "2. Общее количество работодателей 23501.\\\n",
    "3. Количество уникальных регионов 1362.\\\n",
    "4. Количество сфер деятельности 294.*\n",
    "\n",
    "*В среднем от каждого работодателя есть 2 вакансии.\\\n",
    "В среднем на каждый регион приходится по 36 вакансий и 18 работодателей*\n",
    "\n",
    "------\n",
    "\n",
    "*Дополнительно посмотрим на количество вакансий в которых заполены все столбцы. Таких примерно 12 тысяч, что составляет около 24% от числа всех вакансий.*"
   ]
  },
  {
   "cell_type": "code",
   "execution_count": 12,
   "id": "eb3f6df7-2abd-467b-ace6-ce62cfbe9ad8",
   "metadata": {},
   "outputs": [
    {
     "name": "stderr",
     "output_type": "stream",
     "text": [
      "D:\\Temp\\ipykernel_15508\\3248067823.py:11: UserWarning: pandas only supports SQLAlchemy connectable (engine/connection) or database string URI or sqlite3 DBAPI2 connection. Other DBAPI2 objects are not tested. Please consider using SQLAlchemy.\n",
      "  pd.read_sql_query(query, connection).dropna().shape[0]\n"
     ]
    },
    {
     "data": {
      "text/plain": [
       "11994"
      ]
     },
     "execution_count": 12,
     "metadata": {},
     "output_type": "execute_result"
    }
   ],
   "source": [
    "# Запрашиваем объединенную таблицу, удаляем отсутствующие значения и выводим количество получившихся вакансий\n",
    "\n",
    "query = f'''\n",
    "SELECT distinct *\n",
    "FROM public.vacancies v\n",
    "JOIN public.areas a ON v.area_id = a.id\n",
    "JOIN public.employers e ON v.employer_id = e.id\n",
    "JOIN public.employers_industries ei ON v.employer_id = ei.employer_id\n",
    "JOIN public.industries i ON ei.industry_id = i.id\n",
    "'''\n",
    "pd.read_sql_query(query, connection).dropna().shape[0]"
   ]
  },
  {
   "cell_type": "markdown",
   "id": "8d62a9f3-f64e-4fe7-bdac-c4dffa16155e",
   "metadata": {
    "id": "8d62a9f3-f64e-4fe7-bdac-c4dffa16155e"
   },
   "source": [
    "# Юнит 4. Детальный анализ вакансий"
   ]
  },
  {
   "cell_type": "markdown",
   "id": "93053d3d-b284-481a-9cf7-012d7014c0e0",
   "metadata": {
    "id": "93053d3d-b284-481a-9cf7-012d7014c0e0"
   },
   "source": [
    "### 1. Напишите запрос, который позволит узнать, сколько (cnt) вакансий в каждом регионе (area).\n",
    "Отсортируйте по количеству вакансий в порядке убывания."
   ]
  },
  {
   "cell_type": "code",
   "execution_count": 13,
   "id": "3f069da6-fdc9-4ae7-b514-fafe2675efd3",
   "metadata": {
    "id": "3f069da6-fdc9-4ae7-b514-fafe2675efd3"
   },
   "outputs": [],
   "source": [
    "# текст запроса\n",
    "query = f'''\n",
    "SELECT a.name, count(*)\n",
    "FROM public.vacancies v\n",
    "JOIN public.areas a ON v.area_id = a.id\n",
    "GROUP BY a.name\n",
    "ORDER BY count(*) desc\n",
    "LIMIT 5\n",
    "'''"
   ]
  },
  {
   "cell_type": "code",
   "execution_count": 14,
   "id": "P7QL86hrjhRJ",
   "metadata": {
    "id": "P7QL86hrjhRJ"
   },
   "outputs": [
    {
     "name": "stderr",
     "output_type": "stream",
     "text": [
      "D:\\Temp\\ipykernel_15508\\1941775883.py:2: UserWarning: pandas only supports SQLAlchemy connectable (engine/connection) or database string URI or sqlite3 DBAPI2 connection. Other DBAPI2 objects are not tested. Please consider using SQLAlchemy.\n",
      "  pd.read_sql_query(query,connection)\n"
     ]
    },
    {
     "data": {
      "text/html": [
       "<div>\n",
       "<style scoped>\n",
       "    .dataframe tbody tr th:only-of-type {\n",
       "        vertical-align: middle;\n",
       "    }\n",
       "\n",
       "    .dataframe tbody tr th {\n",
       "        vertical-align: top;\n",
       "    }\n",
       "\n",
       "    .dataframe thead th {\n",
       "        text-align: right;\n",
       "    }\n",
       "</style>\n",
       "<table border=\"1\" class=\"dataframe\">\n",
       "  <thead>\n",
       "    <tr style=\"text-align: right;\">\n",
       "      <th></th>\n",
       "      <th>name</th>\n",
       "      <th>count</th>\n",
       "    </tr>\n",
       "  </thead>\n",
       "  <tbody>\n",
       "    <tr>\n",
       "      <th>0</th>\n",
       "      <td>Москва</td>\n",
       "      <td>5333</td>\n",
       "    </tr>\n",
       "    <tr>\n",
       "      <th>1</th>\n",
       "      <td>Санкт-Петербург</td>\n",
       "      <td>2851</td>\n",
       "    </tr>\n",
       "    <tr>\n",
       "      <th>2</th>\n",
       "      <td>Минск</td>\n",
       "      <td>2112</td>\n",
       "    </tr>\n",
       "    <tr>\n",
       "      <th>3</th>\n",
       "      <td>Новосибирск</td>\n",
       "      <td>2006</td>\n",
       "    </tr>\n",
       "    <tr>\n",
       "      <th>4</th>\n",
       "      <td>Алматы</td>\n",
       "      <td>1892</td>\n",
       "    </tr>\n",
       "  </tbody>\n",
       "</table>\n",
       "</div>"
      ],
      "text/plain": [
       "              name  count\n",
       "0           Москва   5333\n",
       "1  Санкт-Петербург   2851\n",
       "2            Минск   2112\n",
       "3      Новосибирск   2006\n",
       "4           Алматы   1892"
      ]
     },
     "execution_count": 14,
     "metadata": {},
     "output_type": "execute_result"
    }
   ],
   "source": [
    "# результат запроса\n",
    "pd.read_sql_query(query,connection)"
   ]
  },
  {
   "cell_type": "markdown",
   "id": "4266f0b6-1646-492a-88b4-2f6a46502135",
   "metadata": {
    "id": "4266f0b6-1646-492a-88b4-2f6a46502135"
   },
   "source": [
    "### 2. Напишите запрос, чтобы определить у какого количества вакансий заполнено хотя бы одно из двух полей с зарплатой."
   ]
  },
  {
   "cell_type": "code",
   "execution_count": 15,
   "id": "0c44b350-72eb-4d65-8b54-a1fc449ba9fd",
   "metadata": {
    "id": "0c44b350-72eb-4d65-8b54-a1fc449ba9fd"
   },
   "outputs": [],
   "source": [
    "# текст запроса\n",
    "query = f'''\n",
    "SELECT count(*) \"Количество\"\n",
    "FROM public.vacancies\n",
    "WHERE (salary_from is not null) OR (salary_to is not null)\n",
    "'''"
   ]
  },
  {
   "cell_type": "code",
   "execution_count": 16,
   "id": "rhvwaMDkoWTi",
   "metadata": {
    "id": "rhvwaMDkoWTi"
   },
   "outputs": [
    {
     "name": "stderr",
     "output_type": "stream",
     "text": [
      "D:\\Temp\\ipykernel_15508\\1941775883.py:2: UserWarning: pandas only supports SQLAlchemy connectable (engine/connection) or database string URI or sqlite3 DBAPI2 connection. Other DBAPI2 objects are not tested. Please consider using SQLAlchemy.\n",
      "  pd.read_sql_query(query,connection)\n"
     ]
    },
    {
     "data": {
      "text/html": [
       "<div>\n",
       "<style scoped>\n",
       "    .dataframe tbody tr th:only-of-type {\n",
       "        vertical-align: middle;\n",
       "    }\n",
       "\n",
       "    .dataframe tbody tr th {\n",
       "        vertical-align: top;\n",
       "    }\n",
       "\n",
       "    .dataframe thead th {\n",
       "        text-align: right;\n",
       "    }\n",
       "</style>\n",
       "<table border=\"1\" class=\"dataframe\">\n",
       "  <thead>\n",
       "    <tr style=\"text-align: right;\">\n",
       "      <th></th>\n",
       "      <th>Количество</th>\n",
       "    </tr>\n",
       "  </thead>\n",
       "  <tbody>\n",
       "    <tr>\n",
       "      <th>0</th>\n",
       "      <td>24073</td>\n",
       "    </tr>\n",
       "  </tbody>\n",
       "</table>\n",
       "</div>"
      ],
      "text/plain": [
       "   Количество\n",
       "0       24073"
      ]
     },
     "execution_count": 16,
     "metadata": {},
     "output_type": "execute_result"
    }
   ],
   "source": [
    "# результат запроса\n",
    "pd.read_sql_query(query,connection)"
   ]
  },
  {
   "cell_type": "markdown",
   "id": "635c4d5d-f323-4c66-b428-50a088120aa0",
   "metadata": {
    "id": "635c4d5d-f323-4c66-b428-50a088120aa0"
   },
   "source": [
    "### 3. Найдите средние значения для нижней и верхней границы зарплатной вилки. Округлите значения до целого."
   ]
  },
  {
   "cell_type": "code",
   "execution_count": 17,
   "id": "603cdbe4-0ec3-4106-8eaf-c73fcdd29165",
   "metadata": {
    "id": "603cdbe4-0ec3-4106-8eaf-c73fcdd29165"
   },
   "outputs": [],
   "source": [
    "# текст запроса\n",
    "query = f'''\n",
    "SELECT 'Верхняя ветка' \"Граница\", round(avg(salary_to)) \"Средняя ЗП\"\n",
    "FROM public.vacancies\n",
    "\n",
    "UNION ALL\n",
    "\n",
    "SELECT 'Нижняя ветка', round(avg(salary_from))\n",
    "FROM public.vacancies\n",
    "'''"
   ]
  },
  {
   "cell_type": "code",
   "execution_count": 18,
   "id": "pswpAb66ovZZ",
   "metadata": {
    "id": "pswpAb66ovZZ"
   },
   "outputs": [
    {
     "name": "stderr",
     "output_type": "stream",
     "text": [
      "D:\\Temp\\ipykernel_15508\\1941775883.py:2: UserWarning: pandas only supports SQLAlchemy connectable (engine/connection) or database string URI or sqlite3 DBAPI2 connection. Other DBAPI2 objects are not tested. Please consider using SQLAlchemy.\n",
      "  pd.read_sql_query(query,connection)\n"
     ]
    },
    {
     "data": {
      "text/html": [
       "<div>\n",
       "<style scoped>\n",
       "    .dataframe tbody tr th:only-of-type {\n",
       "        vertical-align: middle;\n",
       "    }\n",
       "\n",
       "    .dataframe tbody tr th {\n",
       "        vertical-align: top;\n",
       "    }\n",
       "\n",
       "    .dataframe thead th {\n",
       "        text-align: right;\n",
       "    }\n",
       "</style>\n",
       "<table border=\"1\" class=\"dataframe\">\n",
       "  <thead>\n",
       "    <tr style=\"text-align: right;\">\n",
       "      <th></th>\n",
       "      <th>Граница</th>\n",
       "      <th>Средняя ЗП</th>\n",
       "    </tr>\n",
       "  </thead>\n",
       "  <tbody>\n",
       "    <tr>\n",
       "      <th>0</th>\n",
       "      <td>Верхняя ветка</td>\n",
       "      <td>110537.0</td>\n",
       "    </tr>\n",
       "    <tr>\n",
       "      <th>1</th>\n",
       "      <td>Нижняя ветка</td>\n",
       "      <td>71065.0</td>\n",
       "    </tr>\n",
       "  </tbody>\n",
       "</table>\n",
       "</div>"
      ],
      "text/plain": [
       "         Граница  Средняя ЗП\n",
       "0  Верхняя ветка    110537.0\n",
       "1   Нижняя ветка     71065.0"
      ]
     },
     "execution_count": 18,
     "metadata": {},
     "output_type": "execute_result"
    }
   ],
   "source": [
    "# результат запроса\n",
    "pd.read_sql_query(query,connection)"
   ]
  },
  {
   "cell_type": "markdown",
   "id": "f3fdaec9-5fd3-4260-9cf5-1d7406b628a5",
   "metadata": {
    "id": "f3fdaec9-5fd3-4260-9cf5-1d7406b628a5"
   },
   "source": [
    "### 4. Напишите запрос, который выведет количество вакансий для каждого сочетания типа рабочего графика (schedule) и типа трудоустройства (employment), используемого в вакансиях. Результат отсортируйте по убыванию количества.\n"
   ]
  },
  {
   "cell_type": "code",
   "execution_count": 19,
   "id": "1ea710ec-871b-431e-9462-c7d0fd87011b",
   "metadata": {
    "id": "1ea710ec-871b-431e-9462-c7d0fd87011b"
   },
   "outputs": [],
   "source": [
    "# текст запроса\n",
    "query = f'''\n",
    "SELECT  schedule||'--'||employment combination, \n",
    "count(*)\n",
    "FROM public.vacancies\n",
    "GROUP BY schedule, employment\n",
    "ORDER BY 2 desc\n",
    "'''"
   ]
  },
  {
   "cell_type": "code",
   "execution_count": 20,
   "id": "lGUVqavdo4JQ",
   "metadata": {
    "id": "lGUVqavdo4JQ"
   },
   "outputs": [
    {
     "name": "stderr",
     "output_type": "stream",
     "text": [
      "D:\\Temp\\ipykernel_15508\\1941775883.py:2: UserWarning: pandas only supports SQLAlchemy connectable (engine/connection) or database string URI or sqlite3 DBAPI2 connection. Other DBAPI2 objects are not tested. Please consider using SQLAlchemy.\n",
      "  pd.read_sql_query(query,connection)\n"
     ]
    },
    {
     "data": {
      "text/html": [
       "<div>\n",
       "<style scoped>\n",
       "    .dataframe tbody tr th:only-of-type {\n",
       "        vertical-align: middle;\n",
       "    }\n",
       "\n",
       "    .dataframe tbody tr th {\n",
       "        vertical-align: top;\n",
       "    }\n",
       "\n",
       "    .dataframe thead th {\n",
       "        text-align: right;\n",
       "    }\n",
       "</style>\n",
       "<table border=\"1\" class=\"dataframe\">\n",
       "  <thead>\n",
       "    <tr style=\"text-align: right;\">\n",
       "      <th></th>\n",
       "      <th>combination</th>\n",
       "      <th>count</th>\n",
       "    </tr>\n",
       "  </thead>\n",
       "  <tbody>\n",
       "    <tr>\n",
       "      <th>0</th>\n",
       "      <td>Полный день--Полная занятость</td>\n",
       "      <td>35367</td>\n",
       "    </tr>\n",
       "    <tr>\n",
       "      <th>1</th>\n",
       "      <td>Удаленная работа--Полная занятость</td>\n",
       "      <td>7802</td>\n",
       "    </tr>\n",
       "    <tr>\n",
       "      <th>2</th>\n",
       "      <td>Гибкий график--Полная занятость</td>\n",
       "      <td>1593</td>\n",
       "    </tr>\n",
       "    <tr>\n",
       "      <th>3</th>\n",
       "      <td>Удаленная работа--Частичная занятость</td>\n",
       "      <td>1312</td>\n",
       "    </tr>\n",
       "    <tr>\n",
       "      <th>4</th>\n",
       "      <td>Сменный график--Полная занятость</td>\n",
       "      <td>940</td>\n",
       "    </tr>\n",
       "    <tr>\n",
       "      <th>5</th>\n",
       "      <td>Полный день--Стажировка</td>\n",
       "      <td>569</td>\n",
       "    </tr>\n",
       "    <tr>\n",
       "      <th>6</th>\n",
       "      <td>Вахтовый метод--Полная занятость</td>\n",
       "      <td>367</td>\n",
       "    </tr>\n",
       "    <tr>\n",
       "      <th>7</th>\n",
       "      <td>Полный день--Частичная занятость</td>\n",
       "      <td>347</td>\n",
       "    </tr>\n",
       "    <tr>\n",
       "      <th>8</th>\n",
       "      <td>Гибкий график--Частичная занятость</td>\n",
       "      <td>312</td>\n",
       "    </tr>\n",
       "    <tr>\n",
       "      <th>9</th>\n",
       "      <td>Полный день--Проектная работа</td>\n",
       "      <td>141</td>\n",
       "    </tr>\n",
       "    <tr>\n",
       "      <th>10</th>\n",
       "      <td>Удаленная работа--Проектная работа</td>\n",
       "      <td>133</td>\n",
       "    </tr>\n",
       "    <tr>\n",
       "      <th>11</th>\n",
       "      <td>Гибкий график--Стажировка</td>\n",
       "      <td>116</td>\n",
       "    </tr>\n",
       "    <tr>\n",
       "      <th>12</th>\n",
       "      <td>Сменный график--Частичная занятость</td>\n",
       "      <td>101</td>\n",
       "    </tr>\n",
       "    <tr>\n",
       "      <th>13</th>\n",
       "      <td>Удаленная работа--Стажировка</td>\n",
       "      <td>64</td>\n",
       "    </tr>\n",
       "    <tr>\n",
       "      <th>14</th>\n",
       "      <td>Гибкий график--Проектная работа</td>\n",
       "      <td>18</td>\n",
       "    </tr>\n",
       "    <tr>\n",
       "      <th>15</th>\n",
       "      <td>Сменный график--Стажировка</td>\n",
       "      <td>12</td>\n",
       "    </tr>\n",
       "    <tr>\n",
       "      <th>16</th>\n",
       "      <td>Вахтовый метод--Проектная работа</td>\n",
       "      <td>2</td>\n",
       "    </tr>\n",
       "    <tr>\n",
       "      <th>17</th>\n",
       "      <td>Сменный график--Проектная работа</td>\n",
       "      <td>1</td>\n",
       "    </tr>\n",
       "  </tbody>\n",
       "</table>\n",
       "</div>"
      ],
      "text/plain": [
       "                              combination  count\n",
       "0           Полный день--Полная занятость  35367\n",
       "1      Удаленная работа--Полная занятость   7802\n",
       "2         Гибкий график--Полная занятость   1593\n",
       "3   Удаленная работа--Частичная занятость   1312\n",
       "4        Сменный график--Полная занятость    940\n",
       "5                 Полный день--Стажировка    569\n",
       "6        Вахтовый метод--Полная занятость    367\n",
       "7        Полный день--Частичная занятость    347\n",
       "8      Гибкий график--Частичная занятость    312\n",
       "9           Полный день--Проектная работа    141\n",
       "10     Удаленная работа--Проектная работа    133\n",
       "11              Гибкий график--Стажировка    116\n",
       "12    Сменный график--Частичная занятость    101\n",
       "13           Удаленная работа--Стажировка     64\n",
       "14        Гибкий график--Проектная работа     18\n",
       "15             Сменный график--Стажировка     12\n",
       "16       Вахтовый метод--Проектная работа      2\n",
       "17       Сменный график--Проектная работа      1"
      ]
     },
     "execution_count": 20,
     "metadata": {},
     "output_type": "execute_result"
    }
   ],
   "source": [
    "# результат запроса\n",
    "pd.read_sql_query(query,connection)"
   ]
  },
  {
   "cell_type": "markdown",
   "id": "0136ffee-0ead-4a6b-b608-61d1c753a438",
   "metadata": {
    "id": "0136ffee-0ead-4a6b-b608-61d1c753a438"
   },
   "source": [
    "### 5. Напишите запрос, выводящий значения поля Требуемый опыт работы (experience) в порядке возрастания количества вакансий, в которых указан данный вариант опыта. "
   ]
  },
  {
   "cell_type": "code",
   "execution_count": 21,
   "id": "5b3a8e79-f7ab-4008-b767-12aea3a205ea",
   "metadata": {
    "id": "5b3a8e79-f7ab-4008-b767-12aea3a205ea"
   },
   "outputs": [],
   "source": [
    "# текст запроса\n",
    "query = f'''\n",
    "SELECT experience,\n",
    "count(*)\n",
    "FROM public.vacancies\n",
    "GROUP BY experience\n",
    "ORDER BY 2\n",
    "'''"
   ]
  },
  {
   "cell_type": "code",
   "execution_count": 22,
   "id": "3Is64Y-hpDpq",
   "metadata": {
    "id": "3Is64Y-hpDpq"
   },
   "outputs": [
    {
     "name": "stderr",
     "output_type": "stream",
     "text": [
      "D:\\Temp\\ipykernel_15508\\1941775883.py:2: UserWarning: pandas only supports SQLAlchemy connectable (engine/connection) or database string URI or sqlite3 DBAPI2 connection. Other DBAPI2 objects are not tested. Please consider using SQLAlchemy.\n",
      "  pd.read_sql_query(query,connection)\n"
     ]
    },
    {
     "data": {
      "text/html": [
       "<div>\n",
       "<style scoped>\n",
       "    .dataframe tbody tr th:only-of-type {\n",
       "        vertical-align: middle;\n",
       "    }\n",
       "\n",
       "    .dataframe tbody tr th {\n",
       "        vertical-align: top;\n",
       "    }\n",
       "\n",
       "    .dataframe thead th {\n",
       "        text-align: right;\n",
       "    }\n",
       "</style>\n",
       "<table border=\"1\" class=\"dataframe\">\n",
       "  <thead>\n",
       "    <tr style=\"text-align: right;\">\n",
       "      <th></th>\n",
       "      <th>experience</th>\n",
       "      <th>count</th>\n",
       "    </tr>\n",
       "  </thead>\n",
       "  <tbody>\n",
       "    <tr>\n",
       "      <th>0</th>\n",
       "      <td>Более 6 лет</td>\n",
       "      <td>1337</td>\n",
       "    </tr>\n",
       "    <tr>\n",
       "      <th>1</th>\n",
       "      <td>Нет опыта</td>\n",
       "      <td>7197</td>\n",
       "    </tr>\n",
       "    <tr>\n",
       "      <th>2</th>\n",
       "      <td>От 3 до 6 лет</td>\n",
       "      <td>14511</td>\n",
       "    </tr>\n",
       "    <tr>\n",
       "      <th>3</th>\n",
       "      <td>От 1 года до 3 лет</td>\n",
       "      <td>26152</td>\n",
       "    </tr>\n",
       "  </tbody>\n",
       "</table>\n",
       "</div>"
      ],
      "text/plain": [
       "           experience  count\n",
       "0         Более 6 лет   1337\n",
       "1           Нет опыта   7197\n",
       "2       От 3 до 6 лет  14511\n",
       "3  От 1 года до 3 лет  26152"
      ]
     },
     "execution_count": 22,
     "metadata": {},
     "output_type": "execute_result"
    }
   ],
   "source": [
    "# результат запроса\n",
    "pd.read_sql_query(query,connection)"
   ]
  },
  {
   "cell_type": "markdown",
   "id": "oq2b7n1QpIka",
   "metadata": {
    "id": "oq2b7n1QpIka"
   },
   "source": [
    "***"
   ]
  },
  {
   "cell_type": "markdown",
   "id": "13fd20ee-ad59-408d-b404-871e510164d0",
   "metadata": {
    "id": "e91f87ed-e25c-4f96-9f92-b642e8c0b4fa"
   },
   "source": [
    "# выводы по детальному анализу вакансий\n",
    "\n",
    "*1. На передних местах по количеству вакансий находятся города-миллионники. И это не удивительно, в них сосредоченно огромное количество компаний, как больших так и маленьких. *\\\n",
    "*2. В <u>51%</u> всех вакансий не заполнена частично или полностью информация о предпологаемой заработной плате. \n",
    "У работадателя существует множество причин не указывать заработную плату и вот несколько причин почему:*\\\n",
    "*- Зарплата может зависеть от уровня кандидата;*\\\n",
    "*- Объем работ заранее не определен, поэтому расчет будет при личном собеседивании;*\\\n",
    "*- Зарплата может не соответствовать текущему уровню зп для этой профессии на рынке, но есть другие бонусы;*\\\n",
    "*- и т.д.*\\\n",
    "*3. Средняя заработная плата по всем вакансиям в районе 90 тысяч.*\\\n",
    "*4. По данным о количестве вакансий для комбинации график-трудоустройство на первом месте находится Полный день-полная занятость. *\\\n",
    "*5. Работодатель в большинстве случаев (53%) ищет сотрудников с минимальных (1-3 года) опытом работы.*\n",
    "\n",
    "Большое количество пропущенных значений столбцов **зарплатные вилки** нужно обработать. Лучше добавить столбец со средней заработной платой, а зарплатные вилки удалить. Отсутствующие значения заполнить средним значением по данной группе.\n",
    "\n",
    "------------\n",
    "\n",
    "Дополнительно можно посмотреть на самые восстребованные вакансии, а так же, \\\n",
    "Какие навыки чаще всего указываются работодателем."
   ]
  },
  {
   "cell_type": "code",
   "execution_count": 23,
   "id": "0b34066c-520e-437f-8f2d-eec6c8ec9cb6",
   "metadata": {},
   "outputs": [
    {
     "name": "stderr",
     "output_type": "stream",
     "text": [
      "D:\\Temp\\ipykernel_15508\\1668844238.py:9: UserWarning: pandas only supports SQLAlchemy connectable (engine/connection) or database string URI or sqlite3 DBAPI2 connection. Other DBAPI2 objects are not tested. Please consider using SQLAlchemy.\n",
      "  pd.read_sql_query(query, connection)\n"
     ]
    },
    {
     "data": {
      "text/html": [
       "<div>\n",
       "<style scoped>\n",
       "    .dataframe tbody tr th:only-of-type {\n",
       "        vertical-align: middle;\n",
       "    }\n",
       "\n",
       "    .dataframe tbody tr th {\n",
       "        vertical-align: top;\n",
       "    }\n",
       "\n",
       "    .dataframe thead th {\n",
       "        text-align: right;\n",
       "    }\n",
       "</style>\n",
       "<table border=\"1\" class=\"dataframe\">\n",
       "  <thead>\n",
       "    <tr style=\"text-align: right;\">\n",
       "      <th></th>\n",
       "      <th>name</th>\n",
       "      <th>count</th>\n",
       "    </tr>\n",
       "  </thead>\n",
       "  <tbody>\n",
       "    <tr>\n",
       "      <th>0</th>\n",
       "      <td>Системный администратор</td>\n",
       "      <td>1761</td>\n",
       "    </tr>\n",
       "    <tr>\n",
       "      <th>1</th>\n",
       "      <td>Программист 1С</td>\n",
       "      <td>1153</td>\n",
       "    </tr>\n",
       "    <tr>\n",
       "      <th>2</th>\n",
       "      <td>Бизнес-аналитик</td>\n",
       "      <td>488</td>\n",
       "    </tr>\n",
       "    <tr>\n",
       "      <th>3</th>\n",
       "      <td>Специалист технической поддержки</td>\n",
       "      <td>457</td>\n",
       "    </tr>\n",
       "    <tr>\n",
       "      <th>4</th>\n",
       "      <td>Системный аналитик</td>\n",
       "      <td>432</td>\n",
       "    </tr>\n",
       "    <tr>\n",
       "      <th>5</th>\n",
       "      <td>Аналитик</td>\n",
       "      <td>404</td>\n",
       "    </tr>\n",
       "    <tr>\n",
       "      <th>6</th>\n",
       "      <td>Инженер-программист</td>\n",
       "      <td>389</td>\n",
       "    </tr>\n",
       "    <tr>\n",
       "      <th>7</th>\n",
       "      <td>Программист 1C</td>\n",
       "      <td>360</td>\n",
       "    </tr>\n",
       "    <tr>\n",
       "      <th>8</th>\n",
       "      <td>Frontend-разработчик</td>\n",
       "      <td>242</td>\n",
       "    </tr>\n",
       "    <tr>\n",
       "      <th>9</th>\n",
       "      <td>Инженер технической поддержки</td>\n",
       "      <td>230</td>\n",
       "    </tr>\n",
       "  </tbody>\n",
       "</table>\n",
       "</div>"
      ],
      "text/plain": [
       "                               name  count\n",
       "0           Системный администратор   1761\n",
       "1                    Программист 1С   1153\n",
       "2                   Бизнес-аналитик    488\n",
       "3  Специалист технической поддержки    457\n",
       "4                Системный аналитик    432\n",
       "5                          Аналитик    404\n",
       "6               Инженер-программист    389\n",
       "7                    Программист 1C    360\n",
       "8              Frontend-разработчик    242\n",
       "9     Инженер технической поддержки    230"
      ]
     },
     "execution_count": 23,
     "metadata": {},
     "output_type": "execute_result"
    }
   ],
   "source": [
    "query = f'''\n",
    "select distinct v.name, count(*)\n",
    "from public.vacancies v\n",
    "group by v.name\n",
    "order by 2 desc\n",
    "limit 10\n",
    "'''\n",
    "\n",
    "pd.read_sql_query(query, connection)"
   ]
  },
  {
   "cell_type": "code",
   "execution_count": 24,
   "id": "76b991ca-0a5f-4f6f-b0ed-c05a58d813e0",
   "metadata": {},
   "outputs": [
    {
     "name": "stderr",
     "output_type": "stream",
     "text": [
      "D:\\Temp\\ipykernel_15508\\181257613.py:14: UserWarning: pandas only supports SQLAlchemy connectable (engine/connection) or database string URI or sqlite3 DBAPI2 connection. Other DBAPI2 objects are not tested. Please consider using SQLAlchemy.\n",
      "  pd.read_sql_query(query, connection)['key_skills'].apply(key_skillz_counter)\n"
     ]
    },
    {
     "data": {
      "text/plain": [
       "SQL                     6977\n",
       "Git                     4731\n",
       "Английский язык         4525\n",
       "Работа в команде        3923\n",
       "Linux                   3747\n",
       "JavaScript              3625\n",
       "Python                  3445\n",
       "Управление проектами    2764\n",
       "1С программирование     2647\n",
       "PostgreSQL              2452\n",
       "dtype: int64"
      ]
     },
     "execution_count": 24,
     "metadata": {},
     "output_type": "execute_result"
    }
   ],
   "source": [
    "query = f'''\n",
    "SELECT v.key_skills\n",
    "FROM public.vacancies v\n",
    "WHERE v.key_skills IS NOT NULL\n",
    "'''\n",
    "skill_dct = {}                                                        # Словарь для подсчета количеста навыков\n",
    "\n",
    "def key_skillz_counter(x: str) -> str:\n",
    "    # С помощью функции Counter считаем количество навыков и добавляем их в словарь\n",
    "    for key, value in Counter(x.split('\\t')).items():\n",
    "        skill_dct[key] = skill_dct.get(key, 0) + value\n",
    "    return x\n",
    "    \n",
    "pd.read_sql_query(query, connection)['key_skills'].apply(key_skillz_counter)\n",
    "\n",
    "list_ = sorted(skill_dct.items(), key=lambda x: x[1], reverse=True)   # Сортируем, разделяем на 2 переменные и формируем Series\n",
    "skills = [i[0] for i in list_]\n",
    "count = [i[1] for i in list_]\n",
    "\n",
    "pd.Series(count, index=skills).head(10)"
   ]
  },
  {
   "cell_type": "markdown",
   "id": "7ea20ab6-04a7-40a0-adec-443a0e5a42c3",
   "metadata": {
    "id": "7ea20ab6-04a7-40a0-adec-443a0e5a42c3"
   },
   "source": [
    "# Юнит 5. Анализ работодателей"
   ]
  },
  {
   "cell_type": "markdown",
   "id": "968aed80-74ef-4ffb-b5bf-c65b84e9caea",
   "metadata": {
    "id": "968aed80-74ef-4ffb-b5bf-c65b84e9caea"
   },
   "source": [
    "### 1. Напишите запрос, который позволит узнать, какие работодатели находятся на первом и пятом месте по количеству вакансий."
   ]
  },
  {
   "cell_type": "code",
   "execution_count": 25,
   "id": "f2d62796-d400-4ec1-a675-88112739a50e",
   "metadata": {
    "id": "f2d62796-d400-4ec1-a675-88112739a50e"
   },
   "outputs": [],
   "source": [
    "# текст запроса\n",
    "query = f'''\n",
    "(                                             /*Запрос первого места*/\n",
    "SELECT e.name,\n",
    "count(v.id)\n",
    "FROM public.employers e\n",
    "JOIN public.vacancies v ON e.id = v.employer_id\n",
    "GROUP BY e.id\n",
    "ORDER BY 2 desc\n",
    "LIMIT 1\n",
    ")\n",
    "UNION ALL\n",
    "(                                             /*Запрос пятого места*/\n",
    "SELECT e.name,\n",
    "count(v.id)\n",
    "FROM public.employers e\n",
    "JOIN public.vacancies v ON e.id = v.employer_id\n",
    "GROUP BY e.id\n",
    "ORDER BY 2 desc\n",
    "OFFSET 4 LIMIT 1\n",
    ")\n",
    "'''\n",
    "            "
   ]
  },
  {
   "cell_type": "code",
   "execution_count": 26,
   "id": "64tOMkAxqkQk",
   "metadata": {
    "id": "64tOMkAxqkQk"
   },
   "outputs": [
    {
     "name": "stderr",
     "output_type": "stream",
     "text": [
      "D:\\Temp\\ipykernel_15508\\763091750.py:2: UserWarning: pandas only supports SQLAlchemy connectable (engine/connection) or database string URI or sqlite3 DBAPI2 connection. Other DBAPI2 objects are not tested. Please consider using SQLAlchemy.\n",
      "  pd.read_sql_query(query, connection)\n"
     ]
    },
    {
     "data": {
      "text/html": [
       "<div>\n",
       "<style scoped>\n",
       "    .dataframe tbody tr th:only-of-type {\n",
       "        vertical-align: middle;\n",
       "    }\n",
       "\n",
       "    .dataframe tbody tr th {\n",
       "        vertical-align: top;\n",
       "    }\n",
       "\n",
       "    .dataframe thead th {\n",
       "        text-align: right;\n",
       "    }\n",
       "</style>\n",
       "<table border=\"1\" class=\"dataframe\">\n",
       "  <thead>\n",
       "    <tr style=\"text-align: right;\">\n",
       "      <th></th>\n",
       "      <th>name</th>\n",
       "      <th>count</th>\n",
       "    </tr>\n",
       "  </thead>\n",
       "  <tbody>\n",
       "    <tr>\n",
       "      <th>0</th>\n",
       "      <td>Яндекс</td>\n",
       "      <td>1933</td>\n",
       "    </tr>\n",
       "    <tr>\n",
       "      <th>1</th>\n",
       "      <td>Газпром нефть</td>\n",
       "      <td>331</td>\n",
       "    </tr>\n",
       "  </tbody>\n",
       "</table>\n",
       "</div>"
      ],
      "text/plain": [
       "            name  count\n",
       "0         Яндекс   1933\n",
       "1  Газпром нефть    331"
      ]
     },
     "execution_count": 26,
     "metadata": {},
     "output_type": "execute_result"
    }
   ],
   "source": [
    "# результат запроса\n",
    "pd.read_sql_query(query, connection)"
   ]
  },
  {
   "cell_type": "markdown",
   "id": "68377cfc-b378-43dc-ab7d-1195abf2c515",
   "metadata": {
    "id": "68377cfc-b378-43dc-ab7d-1195abf2c515"
   },
   "source": [
    "### 2. Напишите запрос, который для каждого региона выведет количество работодателей и вакансий в нём.\n",
    "Среди регионов, в которых нет вакансий, найдите тот, в котором наибольшее количество работодателей.\n"
   ]
  },
  {
   "cell_type": "code",
   "execution_count": 27,
   "id": "dd7df27a-e3e8-412e-a21a-5d389b71e891",
   "metadata": {
    "id": "dd7df27a-e3e8-412e-a21a-5d389b71e891"
   },
   "outputs": [],
   "source": [
    "# текст запроса\n",
    "query = f'''\n",
    "SELECT ae.name \"Регион\",\n",
    "\"Количество работодателей\",\n",
    "\"Количество вакансий\" \n",
    "FROM\n",
    "(                                             \n",
    "SELECT a.name, \n",
    "count(e.id) \"Количество работодателей\"\n",
    "FROM public.areas a\n",
    "LEFT JOIN public.employers e ON a.id = e.area\n",
    "GROUP BY a.id \n",
    ") ae\n",
    "JOIN \n",
    "(\n",
    "SELECT a.name, \n",
    "count(v.id) \"Количество вакансий\" \n",
    "FROM public.areas a \n",
    "LEFT JOIN public.vacancies v \n",
    "ON a.id = v.area_id\n",
    "GROUP BY a.id \n",
    ") av\n",
    "ON ae.name = av.name\n",
    "ORDER BY 3, 2 DESC\n",
    "'''"
   ]
  },
  {
   "cell_type": "code",
   "execution_count": 28,
   "id": "x1ikWbydrbf6",
   "metadata": {
    "id": "x1ikWbydrbf6"
   },
   "outputs": [
    {
     "name": "stderr",
     "output_type": "stream",
     "text": [
      "D:\\Temp\\ipykernel_15508\\763091750.py:2: UserWarning: pandas only supports SQLAlchemy connectable (engine/connection) or database string URI or sqlite3 DBAPI2 connection. Other DBAPI2 objects are not tested. Please consider using SQLAlchemy.\n",
      "  pd.read_sql_query(query, connection)\n"
     ]
    },
    {
     "data": {
      "text/html": [
       "<div>\n",
       "<style scoped>\n",
       "    .dataframe tbody tr th:only-of-type {\n",
       "        vertical-align: middle;\n",
       "    }\n",
       "\n",
       "    .dataframe tbody tr th {\n",
       "        vertical-align: top;\n",
       "    }\n",
       "\n",
       "    .dataframe thead th {\n",
       "        text-align: right;\n",
       "    }\n",
       "</style>\n",
       "<table border=\"1\" class=\"dataframe\">\n",
       "  <thead>\n",
       "    <tr style=\"text-align: right;\">\n",
       "      <th></th>\n",
       "      <th>Регион</th>\n",
       "      <th>Количество работодателей</th>\n",
       "      <th>Количество вакансий</th>\n",
       "    </tr>\n",
       "  </thead>\n",
       "  <tbody>\n",
       "    <tr>\n",
       "      <th>0</th>\n",
       "      <td>Россия</td>\n",
       "      <td>410</td>\n",
       "      <td>0</td>\n",
       "    </tr>\n",
       "    <tr>\n",
       "      <th>1</th>\n",
       "      <td>Казахстан</td>\n",
       "      <td>207</td>\n",
       "      <td>0</td>\n",
       "    </tr>\n",
       "    <tr>\n",
       "      <th>2</th>\n",
       "      <td>Московская область</td>\n",
       "      <td>75</td>\n",
       "      <td>0</td>\n",
       "    </tr>\n",
       "    <tr>\n",
       "      <th>3</th>\n",
       "      <td>Краснодарский край</td>\n",
       "      <td>19</td>\n",
       "      <td>0</td>\n",
       "    </tr>\n",
       "    <tr>\n",
       "      <th>4</th>\n",
       "      <td>Беларусь</td>\n",
       "      <td>18</td>\n",
       "      <td>0</td>\n",
       "    </tr>\n",
       "    <tr>\n",
       "      <th>...</th>\n",
       "      <td>...</td>\n",
       "      <td>...</td>\n",
       "      <td>...</td>\n",
       "    </tr>\n",
       "    <tr>\n",
       "      <th>1357</th>\n",
       "      <td>Алматы</td>\n",
       "      <td>721</td>\n",
       "      <td>1892</td>\n",
       "    </tr>\n",
       "    <tr>\n",
       "      <th>1358</th>\n",
       "      <td>Новосибирск</td>\n",
       "      <td>573</td>\n",
       "      <td>2006</td>\n",
       "    </tr>\n",
       "    <tr>\n",
       "      <th>1359</th>\n",
       "      <td>Минск</td>\n",
       "      <td>1115</td>\n",
       "      <td>2112</td>\n",
       "    </tr>\n",
       "    <tr>\n",
       "      <th>1360</th>\n",
       "      <td>Санкт-Петербург</td>\n",
       "      <td>2217</td>\n",
       "      <td>2851</td>\n",
       "    </tr>\n",
       "    <tr>\n",
       "      <th>1361</th>\n",
       "      <td>Москва</td>\n",
       "      <td>5864</td>\n",
       "      <td>5333</td>\n",
       "    </tr>\n",
       "  </tbody>\n",
       "</table>\n",
       "<p>1362 rows × 3 columns</p>\n",
       "</div>"
      ],
      "text/plain": [
       "                  Регион  Количество работодателей  Количество вакансий\n",
       "0                 Россия                       410                    0\n",
       "1              Казахстан                       207                    0\n",
       "2     Московская область                        75                    0\n",
       "3     Краснодарский край                        19                    0\n",
       "4               Беларусь                        18                    0\n",
       "...                  ...                       ...                  ...\n",
       "1357              Алматы                       721                 1892\n",
       "1358         Новосибирск                       573                 2006\n",
       "1359               Минск                      1115                 2112\n",
       "1360     Санкт-Петербург                      2217                 2851\n",
       "1361              Москва                      5864                 5333\n",
       "\n",
       "[1362 rows x 3 columns]"
      ]
     },
     "execution_count": 28,
     "metadata": {},
     "output_type": "execute_result"
    }
   ],
   "source": [
    "# результат запроса\n",
    "pd.read_sql_query(query, connection)"
   ]
  },
  {
   "cell_type": "markdown",
   "id": "f2fe0acb-ab1a-4e15-9326-2560e22d73c1",
   "metadata": {
    "id": "f2fe0acb-ab1a-4e15-9326-2560e22d73c1"
   },
   "source": [
    "### 3. Для каждого работодателя посчитайте количество регионов, в которых он публикует свои вакансии. Отсортируйте результат по убыванию количества.\n"
   ]
  },
  {
   "cell_type": "code",
   "execution_count": 29,
   "id": "6271f8ad-bd2e-4196-ae4a-5b39c4c1010e",
   "metadata": {
    "id": "6271f8ad-bd2e-4196-ae4a-5b39c4c1010e"
   },
   "outputs": [],
   "source": [
    "# текст запроса\n",
    "query = f'''\n",
    "SELECT e.name,\n",
    "count(DISTINCT v.area_id)\n",
    "FROM public.vacancies v\n",
    "JOIN public.employers e ON e.id = v.employer_id\n",
    "GROUP BY e.id\n",
    "ORDER BY 2 DESC\n",
    "'''"
   ]
  },
  {
   "cell_type": "code",
   "execution_count": 30,
   "id": "1EIvX3HasH4F",
   "metadata": {
    "id": "1EIvX3HasH4F"
   },
   "outputs": [
    {
     "name": "stderr",
     "output_type": "stream",
     "text": [
      "D:\\Temp\\ipykernel_15508\\763091750.py:2: UserWarning: pandas only supports SQLAlchemy connectable (engine/connection) or database string URI or sqlite3 DBAPI2 connection. Other DBAPI2 objects are not tested. Please consider using SQLAlchemy.\n",
      "  pd.read_sql_query(query, connection)\n"
     ]
    },
    {
     "data": {
      "text/html": [
       "<div>\n",
       "<style scoped>\n",
       "    .dataframe tbody tr th:only-of-type {\n",
       "        vertical-align: middle;\n",
       "    }\n",
       "\n",
       "    .dataframe tbody tr th {\n",
       "        vertical-align: top;\n",
       "    }\n",
       "\n",
       "    .dataframe thead th {\n",
       "        text-align: right;\n",
       "    }\n",
       "</style>\n",
       "<table border=\"1\" class=\"dataframe\">\n",
       "  <thead>\n",
       "    <tr style=\"text-align: right;\">\n",
       "      <th></th>\n",
       "      <th>name</th>\n",
       "      <th>count</th>\n",
       "    </tr>\n",
       "  </thead>\n",
       "  <tbody>\n",
       "    <tr>\n",
       "      <th>0</th>\n",
       "      <td>Яндекс</td>\n",
       "      <td>181</td>\n",
       "    </tr>\n",
       "    <tr>\n",
       "      <th>1</th>\n",
       "      <td>Ростелеком</td>\n",
       "      <td>152</td>\n",
       "    </tr>\n",
       "    <tr>\n",
       "      <th>2</th>\n",
       "      <td>Спецремонт</td>\n",
       "      <td>116</td>\n",
       "    </tr>\n",
       "    <tr>\n",
       "      <th>3</th>\n",
       "      <td>Поляков Денис Иванович</td>\n",
       "      <td>88</td>\n",
       "    </tr>\n",
       "    <tr>\n",
       "      <th>4</th>\n",
       "      <td>ООО ЕФИН</td>\n",
       "      <td>71</td>\n",
       "    </tr>\n",
       "    <tr>\n",
       "      <th>...</th>\n",
       "      <td>...</td>\n",
       "      <td>...</td>\n",
       "    </tr>\n",
       "    <tr>\n",
       "      <th>14901</th>\n",
       "      <td>НПП Авиатрон</td>\n",
       "      <td>1</td>\n",
       "    </tr>\n",
       "    <tr>\n",
       "      <th>14902</th>\n",
       "      <td>Центр дистанционных торгов</td>\n",
       "      <td>1</td>\n",
       "    </tr>\n",
       "    <tr>\n",
       "      <th>14903</th>\n",
       "      <td>Городские Телекоммуникационные Системы</td>\n",
       "      <td>1</td>\n",
       "    </tr>\n",
       "    <tr>\n",
       "      <th>14904</th>\n",
       "      <td>Введенский, Отель</td>\n",
       "      <td>1</td>\n",
       "    </tr>\n",
       "    <tr>\n",
       "      <th>14905</th>\n",
       "      <td>Группа Компаний Автоимпорт</td>\n",
       "      <td>1</td>\n",
       "    </tr>\n",
       "  </tbody>\n",
       "</table>\n",
       "<p>14906 rows × 2 columns</p>\n",
       "</div>"
      ],
      "text/plain": [
       "                                         name  count\n",
       "0                                      Яндекс    181\n",
       "1                                  Ростелеком    152\n",
       "2                                  Спецремонт    116\n",
       "3                      Поляков Денис Иванович     88\n",
       "4                                   ООО ЕФИН      71\n",
       "...                                       ...    ...\n",
       "14901                            НПП Авиатрон      1\n",
       "14902              Центр дистанционных торгов      1\n",
       "14903  Городские Телекоммуникационные Системы      1\n",
       "14904                       Введенский, Отель      1\n",
       "14905              Группа Компаний Автоимпорт      1\n",
       "\n",
       "[14906 rows x 2 columns]"
      ]
     },
     "execution_count": 30,
     "metadata": {},
     "output_type": "execute_result"
    }
   ],
   "source": [
    "# результат запроса\n",
    "pd.read_sql_query(query, connection)"
   ]
  },
  {
   "cell_type": "markdown",
   "id": "eab2206d-d95b-468b-8e5f-34381abf0ce7",
   "metadata": {
    "id": "eab2206d-d95b-468b-8e5f-34381abf0ce7"
   },
   "source": [
    "### 4. Напишите запрос для подсчёта количества работодателей, у которых не указана сфера деятельности. "
   ]
  },
  {
   "cell_type": "code",
   "execution_count": 31,
   "id": "80defb23-bfb1-4a18-8be6-bf36aa7165d5",
   "metadata": {
    "id": "80defb23-bfb1-4a18-8be6-bf36aa7165d5"
   },
   "outputs": [],
   "source": [
    "# текст запроса\n",
    "query = f'''\n",
    "SELECT count(*)\n",
    "FROM public.employers e\n",
    "LEFT JOIN public.employers_industries ei ON e.id = ei.employer_id\n",
    "WHERE industry_id IS NULL\n",
    "'''"
   ]
  },
  {
   "cell_type": "code",
   "execution_count": 32,
   "id": "Dp_yCx6ysQSu",
   "metadata": {
    "id": "Dp_yCx6ysQSu"
   },
   "outputs": [
    {
     "name": "stderr",
     "output_type": "stream",
     "text": [
      "D:\\Temp\\ipykernel_15508\\763091750.py:2: UserWarning: pandas only supports SQLAlchemy connectable (engine/connection) or database string URI or sqlite3 DBAPI2 connection. Other DBAPI2 objects are not tested. Please consider using SQLAlchemy.\n",
      "  pd.read_sql_query(query, connection)\n"
     ]
    },
    {
     "data": {
      "text/html": [
       "<div>\n",
       "<style scoped>\n",
       "    .dataframe tbody tr th:only-of-type {\n",
       "        vertical-align: middle;\n",
       "    }\n",
       "\n",
       "    .dataframe tbody tr th {\n",
       "        vertical-align: top;\n",
       "    }\n",
       "\n",
       "    .dataframe thead th {\n",
       "        text-align: right;\n",
       "    }\n",
       "</style>\n",
       "<table border=\"1\" class=\"dataframe\">\n",
       "  <thead>\n",
       "    <tr style=\"text-align: right;\">\n",
       "      <th></th>\n",
       "      <th>count</th>\n",
       "    </tr>\n",
       "  </thead>\n",
       "  <tbody>\n",
       "    <tr>\n",
       "      <th>0</th>\n",
       "      <td>8419</td>\n",
       "    </tr>\n",
       "  </tbody>\n",
       "</table>\n",
       "</div>"
      ],
      "text/plain": [
       "   count\n",
       "0   8419"
      ]
     },
     "execution_count": 32,
     "metadata": {},
     "output_type": "execute_result"
    }
   ],
   "source": [
    "# результат запроса\n",
    "pd.read_sql_query(query, connection)"
   ]
  },
  {
   "cell_type": "markdown",
   "id": "0112af31-f6b0-4e3b-82ab-71296e752e5e",
   "metadata": {
    "id": "0112af31-f6b0-4e3b-82ab-71296e752e5e"
   },
   "source": [
    "### 5. Напишите запрос, чтобы узнать название компании, находящейся на третьем месте в алфавитном списке (по названию) компаний, у которых указано четыре сферы деятельности. "
   ]
  },
  {
   "cell_type": "code",
   "execution_count": 33,
   "id": "973b0cfc-a972-470a-8b4a-68744ef220c4",
   "metadata": {
    "id": "973b0cfc-a972-470a-8b4a-68744ef220c4"
   },
   "outputs": [],
   "source": [
    "# текст запроса\n",
    "query = f'''\n",
    "SELECT e.name \n",
    "FROM public.employers e\n",
    "LEFT JOIN public.employers_industries ei ON e.id = ei.employer_id\n",
    "GROUP BY e.id\n",
    "HAVING count(*) = 4\n",
    "ORDER BY 1\n",
    "OFFSET 2 LIMIT 1\n",
    "'''"
   ]
  },
  {
   "cell_type": "code",
   "execution_count": 34,
   "id": "xsPtpp8EsaED",
   "metadata": {
    "id": "xsPtpp8EsaED"
   },
   "outputs": [
    {
     "name": "stderr",
     "output_type": "stream",
     "text": [
      "D:\\Temp\\ipykernel_15508\\763091750.py:2: UserWarning: pandas only supports SQLAlchemy connectable (engine/connection) or database string URI or sqlite3 DBAPI2 connection. Other DBAPI2 objects are not tested. Please consider using SQLAlchemy.\n",
      "  pd.read_sql_query(query, connection)\n"
     ]
    },
    {
     "data": {
      "text/html": [
       "<div>\n",
       "<style scoped>\n",
       "    .dataframe tbody tr th:only-of-type {\n",
       "        vertical-align: middle;\n",
       "    }\n",
       "\n",
       "    .dataframe tbody tr th {\n",
       "        vertical-align: top;\n",
       "    }\n",
       "\n",
       "    .dataframe thead th {\n",
       "        text-align: right;\n",
       "    }\n",
       "</style>\n",
       "<table border=\"1\" class=\"dataframe\">\n",
       "  <thead>\n",
       "    <tr style=\"text-align: right;\">\n",
       "      <th></th>\n",
       "      <th>name</th>\n",
       "    </tr>\n",
       "  </thead>\n",
       "  <tbody>\n",
       "    <tr>\n",
       "      <th>0</th>\n",
       "      <td>2ГИС</td>\n",
       "    </tr>\n",
       "  </tbody>\n",
       "</table>\n",
       "</div>"
      ],
      "text/plain": [
       "   name\n",
       "0  2ГИС"
      ]
     },
     "execution_count": 34,
     "metadata": {},
     "output_type": "execute_result"
    }
   ],
   "source": [
    "# результат запроса\n",
    "pd.read_sql_query(query, connection)"
   ]
  },
  {
   "cell_type": "markdown",
   "id": "3bfcfdaf-755d-4d2b-8ed8-326201dc07ab",
   "metadata": {
    "id": "3bfcfdaf-755d-4d2b-8ed8-326201dc07ab"
   },
   "source": [
    "### 6. С помощью запроса выясните, у какого количества работодателей в качестве сферы деятельности указана Разработка программного обеспечения."
   ]
  },
  {
   "cell_type": "code",
   "execution_count": 35,
   "id": "ad3f270f-2991-47eb-929b-e8f88a55b0d1",
   "metadata": {
    "id": "ad3f270f-2991-47eb-929b-e8f88a55b0d1"
   },
   "outputs": [
    {
     "name": "stderr",
     "output_type": "stream",
     "text": [
      "D:\\Temp\\ipykernel_15508\\2168848807.py:12: UserWarning: pandas only supports SQLAlchemy connectable (engine/connection) or database string URI or sqlite3 DBAPI2 connection. Other DBAPI2 objects are not tested. Please consider using SQLAlchemy.\n",
      "  pd.read_sql_query(query, connection)\n"
     ]
    },
    {
     "data": {
      "text/html": [
       "<div>\n",
       "<style scoped>\n",
       "    .dataframe tbody tr th:only-of-type {\n",
       "        vertical-align: middle;\n",
       "    }\n",
       "\n",
       "    .dataframe tbody tr th {\n",
       "        vertical-align: top;\n",
       "    }\n",
       "\n",
       "    .dataframe thead th {\n",
       "        text-align: right;\n",
       "    }\n",
       "</style>\n",
       "<table border=\"1\" class=\"dataframe\">\n",
       "  <thead>\n",
       "    <tr style=\"text-align: right;\">\n",
       "      <th></th>\n",
       "      <th>count</th>\n",
       "    </tr>\n",
       "  </thead>\n",
       "  <tbody>\n",
       "    <tr>\n",
       "      <th>0</th>\n",
       "      <td>3553</td>\n",
       "    </tr>\n",
       "  </tbody>\n",
       "</table>\n",
       "</div>"
      ],
      "text/plain": [
       "   count\n",
       "0   3553"
      ]
     },
     "execution_count": 35,
     "metadata": {},
     "output_type": "execute_result"
    }
   ],
   "source": [
    "# текст запроса\n",
    "query = f'''\n",
    "SELECT count(DISTINCT e.id)\n",
    "FROM public.employers e\n",
    "JOIN public.employers_industries ei ON e.id = ei.employer_id\n",
    "JOIN public.industries i ON ei.industry_id = i.id\n",
    "LEFT JOIN public.vacancies v ON v.employer_id = e.id\n",
    "WHERE i.name like '%Разработка программного обеспечения%'\n",
    "'''\n",
    "\n",
    "# результат запроса\n",
    "pd.read_sql_query(query, connection)"
   ]
  },
  {
   "cell_type": "code",
   "execution_count": 36,
   "id": "H72qxWM0shPR",
   "metadata": {
    "id": "H72qxWM0shPR"
   },
   "outputs": [
    {
     "name": "stderr",
     "output_type": "stream",
     "text": [
      "D:\\Temp\\ipykernel_15508\\2163303907.py:14: UserWarning: pandas only supports SQLAlchemy connectable (engine/connection) or database string URI or sqlite3 DBAPI2 connection. Other DBAPI2 objects are not tested. Please consider using SQLAlchemy.\n",
      "  pd.read_sql_query(query, connection)\n"
     ]
    },
    {
     "data": {
      "text/html": [
       "<div>\n",
       "<style scoped>\n",
       "    .dataframe tbody tr th:only-of-type {\n",
       "        vertical-align: middle;\n",
       "    }\n",
       "\n",
       "    .dataframe tbody tr th {\n",
       "        vertical-align: top;\n",
       "    }\n",
       "\n",
       "    .dataframe thead th {\n",
       "        text-align: right;\n",
       "    }\n",
       "</style>\n",
       "<table border=\"1\" class=\"dataframe\">\n",
       "  <thead>\n",
       "    <tr style=\"text-align: right;\">\n",
       "      <th></th>\n",
       "      <th>name</th>\n",
       "      <th>count</th>\n",
       "    </tr>\n",
       "  </thead>\n",
       "  <tbody>\n",
       "    <tr>\n",
       "      <th>0</th>\n",
       "      <td>Тинькофф</td>\n",
       "      <td>444</td>\n",
       "    </tr>\n",
       "    <tr>\n",
       "      <th>1</th>\n",
       "      <td>DataArt</td>\n",
       "      <td>247</td>\n",
       "    </tr>\n",
       "    <tr>\n",
       "      <th>2</th>\n",
       "      <td>Совкомбанк Технологии</td>\n",
       "      <td>204</td>\n",
       "    </tr>\n",
       "    <tr>\n",
       "      <th>3</th>\n",
       "      <td>IBS</td>\n",
       "      <td>175</td>\n",
       "    </tr>\n",
       "    <tr>\n",
       "      <th>4</th>\n",
       "      <td>Тензор</td>\n",
       "      <td>155</td>\n",
       "    </tr>\n",
       "    <tr>\n",
       "      <th>5</th>\n",
       "      <td>Andersen</td>\n",
       "      <td>155</td>\n",
       "    </tr>\n",
       "    <tr>\n",
       "      <th>6</th>\n",
       "      <td>VK</td>\n",
       "      <td>150</td>\n",
       "    </tr>\n",
       "    <tr>\n",
       "      <th>7</th>\n",
       "      <td>ЛАНИТ</td>\n",
       "      <td>117</td>\n",
       "    </tr>\n",
       "    <tr>\n",
       "      <th>8</th>\n",
       "      <td>Лига Цифровой Экономики</td>\n",
       "      <td>110</td>\n",
       "    </tr>\n",
       "    <tr>\n",
       "      <th>9</th>\n",
       "      <td>Softline</td>\n",
       "      <td>108</td>\n",
       "    </tr>\n",
       "  </tbody>\n",
       "</table>\n",
       "</div>"
      ],
      "text/plain": [
       "                      name  count\n",
       "0                 Тинькофф    444\n",
       "1                  DataArt    247\n",
       "2    Совкомбанк Технологии    204\n",
       "3                      IBS    175\n",
       "4                   Тензор    155\n",
       "5                 Andersen    155\n",
       "6                       VK    150\n",
       "7                    ЛАНИТ    117\n",
       "8  Лига Цифровой Экономики    110\n",
       "9                 Softline    108"
      ]
     },
     "execution_count": 36,
     "metadata": {},
     "output_type": "execute_result"
    }
   ],
   "source": [
    "# Дополнительно взглянем на имена компаний с наибольшим количеством вакансий в сфере - Разработка програмного обеспечения \n",
    "query = f'''                                      \n",
    "SELECT e.name, count(DISTINCT v.id)\n",
    "FROM public.employers e\n",
    "JOIN public.employers_industries ei ON e.id = ei.employer_id\n",
    "JOIN public.industries i ON ei.industry_id = i.id\n",
    "LEFT JOIN public.vacancies v ON v.employer_id = e.id\n",
    "WHERE i.name like '%Разработка программного обеспечения%'\n",
    "GROUP BY e.id\n",
    "ORDER BY 2 DESC\n",
    "LIMIT 10\n",
    "'''\n",
    "\n",
    "pd.read_sql_query(query, connection)"
   ]
  },
  {
   "cell_type": "markdown",
   "id": "7b02bb86-0546-40fb-94a4-242f050a5c57",
   "metadata": {
    "id": "7b02bb86-0546-40fb-94a4-242f050a5c57"
   },
   "source": [
    "### 7. Для компании «Яндекс» выведите список регионов-миллионников, в которых представлены вакансии компании, вместе с количеством вакансий в этих регионах. Также добавьте строку Total с общим количеством вакансий компании. Результат отсортируйте по возрастанию количества.\n",
    "\n",
    "Список городов-милионников надо взять [отсюда](https://ru.wikipedia.org/wiki/%D0%93%D0%BE%D1%80%D0%BE%D0%B4%D0%B0-%D0%BC%D0%B8%D0%BB%D0%BB%D0%B8%D0%BE%D0%BD%D0%B5%D1%80%D1%8B_%D0%A0%D0%BE%D1%81%D1%81%D0%B8%D0%B8). \n",
    "\n",
    "Если возникнут трудности с этим задание посмотрите материалы модуля  PYTHON-17. Как получать данные из веб-источников и API. "
   ]
  },
  {
   "cell_type": "code",
   "execution_count": 37,
   "id": "ZdfrL6gIs1Pn",
   "metadata": {
    "id": "ZdfrL6gIs1Pn"
   },
   "outputs": [
    {
     "data": {
      "text/html": [
       "<div>\n",
       "<style scoped>\n",
       "    .dataframe tbody tr th:only-of-type {\n",
       "        vertical-align: middle;\n",
       "    }\n",
       "\n",
       "    .dataframe tbody tr th {\n",
       "        vertical-align: top;\n",
       "    }\n",
       "\n",
       "    .dataframe thead th {\n",
       "        text-align: right;\n",
       "    }\n",
       "</style>\n",
       "<table border=\"1\" class=\"dataframe\">\n",
       "  <thead>\n",
       "    <tr style=\"text-align: right;\">\n",
       "      <th></th>\n",
       "      <th>Город</th>\n",
       "      <th>Население, тыс. чел. (на 1 января 2024)</th>\n",
       "      <th>Население, тыс. чел. (перепись-2021)</th>\n",
       "      <th>Прирост относительно переписи-2021</th>\n",
       "      <th>Население, тыс. чел. (перепись-2020)</th>\n",
       "    </tr>\n",
       "    <tr>\n",
       "      <th>№</th>\n",
       "      <th></th>\n",
       "      <th></th>\n",
       "      <th></th>\n",
       "      <th></th>\n",
       "      <th></th>\n",
       "    </tr>\n",
       "  </thead>\n",
       "  <tbody>\n",
       "    <tr>\n",
       "      <th>1</th>\n",
       "      <td>Москва</td>\n",
       "      <td>13 150</td>\n",
       "      <td>13 010</td>\n",
       "      <td>13.1 %</td>\n",
       "      <td>11 504</td>\n",
       "    </tr>\n",
       "    <tr>\n",
       "      <th>2</th>\n",
       "      <td>Санкт-Петербург</td>\n",
       "      <td>5 598</td>\n",
       "      <td>5 602</td>\n",
       "      <td>14.8 %</td>\n",
       "      <td>4 880</td>\n",
       "    </tr>\n",
       "    <tr>\n",
       "      <th>3</th>\n",
       "      <td>Новосибирск</td>\n",
       "      <td>1 634</td>\n",
       "      <td>1 634</td>\n",
       "      <td>10.9 %</td>\n",
       "      <td>1 474</td>\n",
       "    </tr>\n",
       "    <tr>\n",
       "      <th>4</th>\n",
       "      <td>Екатеринбург</td>\n",
       "      <td>1 536</td>\n",
       "      <td>1 544</td>\n",
       "      <td>14.4 %</td>\n",
       "      <td>1 350</td>\n",
       "    </tr>\n",
       "    <tr>\n",
       "      <th>5</th>\n",
       "      <td>Казань</td>\n",
       "      <td>1 319</td>\n",
       "      <td>1 309</td>\n",
       "      <td>14.4 %</td>\n",
       "      <td>1 144</td>\n",
       "    </tr>\n",
       "    <tr>\n",
       "      <th>6</th>\n",
       "      <td>Красноярск</td>\n",
       "      <td>1 205</td>\n",
       "      <td>1 188</td>\n",
       "      <td>21.6 %</td>\n",
       "      <td>977</td>\n",
       "    </tr>\n",
       "    <tr>\n",
       "      <th>7</th>\n",
       "      <td>Нижний Новгород</td>\n",
       "      <td>1 205</td>\n",
       "      <td>1 226</td>\n",
       "      <td>0.2 %</td>\n",
       "      <td>1 251</td>\n",
       "    </tr>\n",
       "    <tr>\n",
       "      <th>8</th>\n",
       "      <td>Челябинск</td>\n",
       "      <td>1 177</td>\n",
       "      <td>1 190</td>\n",
       "      <td>5.3 %</td>\n",
       "      <td>1 130</td>\n",
       "    </tr>\n",
       "    <tr>\n",
       "      <th>9</th>\n",
       "      <td>Уфа</td>\n",
       "      <td>1 163</td>\n",
       "      <td>1 145</td>\n",
       "      <td>7.8 %</td>\n",
       "      <td>1 062</td>\n",
       "    </tr>\n",
       "    <tr>\n",
       "      <th>10</th>\n",
       "      <td>Самара</td>\n",
       "      <td>1 159</td>\n",
       "      <td>1 173</td>\n",
       "      <td>0.3 %</td>\n",
       "      <td>1 169</td>\n",
       "    </tr>\n",
       "    <tr>\n",
       "      <th>11</th>\n",
       "      <td>Ростов-на-Дону</td>\n",
       "      <td>1 140</td>\n",
       "      <td>1 142</td>\n",
       "      <td>4.9 %</td>\n",
       "      <td>1 089</td>\n",
       "    </tr>\n",
       "    <tr>\n",
       "      <th>12</th>\n",
       "      <td>Краснодар</td>\n",
       "      <td>1 139</td>\n",
       "      <td>1 099</td>\n",
       "      <td>43.8 %</td>\n",
       "      <td>764</td>\n",
       "    </tr>\n",
       "    <tr>\n",
       "      <th>13</th>\n",
       "      <td>Омск</td>\n",
       "      <td>1 104</td>\n",
       "      <td>1 126</td>\n",
       "      <td>0.1 %</td>\n",
       "      <td>1 166</td>\n",
       "    </tr>\n",
       "    <tr>\n",
       "      <th>14</th>\n",
       "      <td>Воронеж</td>\n",
       "      <td>1 046</td>\n",
       "      <td>1 058</td>\n",
       "      <td>18.9 %</td>\n",
       "      <td>890</td>\n",
       "    </tr>\n",
       "    <tr>\n",
       "      <th>15</th>\n",
       "      <td>Пермь</td>\n",
       "      <td>1 027</td>\n",
       "      <td>1 034</td>\n",
       "      <td>4.3 %</td>\n",
       "      <td>991</td>\n",
       "    </tr>\n",
       "    <tr>\n",
       "      <th>16</th>\n",
       "      <td>Волгоград</td>\n",
       "      <td>1 019</td>\n",
       "      <td>1 028</td>\n",
       "      <td>0.7 %</td>\n",
       "      <td>1 021</td>\n",
       "    </tr>\n",
       "  </tbody>\n",
       "</table>\n",
       "</div>"
      ],
      "text/plain": [
       "              Город Население, тыс. чел. (на 1 января 2024)  \\\n",
       "№                                                             \n",
       "1            Москва                                  13 150   \n",
       "2   Санкт-Петербург                                   5 598   \n",
       "3       Новосибирск                                   1 634   \n",
       "4      Екатеринбург                                   1 536   \n",
       "5            Казань                                   1 319   \n",
       "6        Красноярск                                   1 205   \n",
       "7   Нижний Новгород                                   1 205   \n",
       "8         Челябинск                                   1 177   \n",
       "9               Уфа                                   1 163   \n",
       "10           Самара                                   1 159   \n",
       "11   Ростов-на-Дону                                   1 140   \n",
       "12        Краснодар                                   1 139   \n",
       "13             Омск                                   1 104   \n",
       "14          Воронеж                                   1 046   \n",
       "15            Пермь                                   1 027   \n",
       "16        Волгоград                                   1 019   \n",
       "\n",
       "   Население, тыс. чел. (перепись-2021) Прирост относительно переписи-2021  \\\n",
       "№                                                                            \n",
       "1                                13 010                             13.1 %   \n",
       "2                                 5 602                             14.8 %   \n",
       "3                                 1 634                             10.9 %   \n",
       "4                                 1 544                             14.4 %   \n",
       "5                                 1 309                             14.4 %   \n",
       "6                                 1 188                             21.6 %   \n",
       "7                                 1 226                              0.2 %   \n",
       "8                                 1 190                              5.3 %   \n",
       "9                                 1 145                              7.8 %   \n",
       "10                                1 173                              0.3 %   \n",
       "11                                1 142                              4.9 %   \n",
       "12                                1 099                             43.8 %   \n",
       "13                                1 126                              0.1 %   \n",
       "14                                1 058                             18.9 %   \n",
       "15                                1 034                              4.3 %   \n",
       "16                                1 028                              0.7 %   \n",
       "\n",
       "   Население, тыс. чел. (перепись-2020)  \n",
       "№                                        \n",
       "1                                11 504  \n",
       "2                                 4 880  \n",
       "3                                 1 474  \n",
       "4                                 1 350  \n",
       "5                                 1 144  \n",
       "6                                   977  \n",
       "7                                 1 251  \n",
       "8                                 1 130  \n",
       "9                                 1 062  \n",
       "10                                1 169  \n",
       "11                                1 089  \n",
       "12                                  764  \n",
       "13                                1 166  \n",
       "14                                  890  \n",
       "15                                  991  \n",
       "16                                1 021  "
      ]
     },
     "execution_count": 37,
     "metadata": {},
     "output_type": "execute_result"
    }
   ],
   "source": [
    "# код для получения списка городов-милионников\n",
    "url = r'https://ru.wikipedia.org/wiki/%D0%93%D0%BE%D1%80%D0%BE%D0%B4%D0%B0-%D0%BC%D0%B8%D0%BB%D0%BB%D0%B8%D0%BE%D0%BD%D0%B5%D1%80%D1%8B_%D0%A0%D0%BE%D1%81%D1%81%D0%B8%D0%B8'\n",
    "response = requests.get(url)\n",
    "soup = BeautifulSoup(response.text, 'html.parser')\n",
    "rows = soup.find('table', class_='standard sortable').find('tbody').find_all('tr')\n",
    "\n",
    "headers = pd.Series(['№', 'Город', 'Население, тыс. чел. (на 1 января 2024)', 'Население, тыс. чел. (перепись-2021)',\n",
    "                     'Прирост относительно переписи-2021', 'Население, тыс. чел. (перепись-2020)'])\n",
    "lst = []\n",
    "for row in rows:\n",
    "    values = row.find_all('td')\n",
    "    if values:\n",
    "        try:\n",
    "            lst.append([v.text if i != 4 else v['data-sort-value'] + ' %' for i, v in enumerate(values)])\n",
    "        except Exception:\n",
    "            continue\n",
    "\n",
    "df = pd.DataFrame(lst, columns=headers)\n",
    "df.set_index('№',inplace=True)\n",
    "df"
   ]
  },
  {
   "cell_type": "code",
   "execution_count": 38,
   "id": "5a0e32a4-e68a-4365-8a39-2fe24c542c36",
   "metadata": {
    "id": "5a0e32a4-e68a-4365-8a39-2fe24c542c36"
   },
   "outputs": [],
   "source": [
    "# текст запроса\n",
    "query = f'''\n",
    "WITH tbl AS (\n",
    "SELECT a.name,\n",
    "count(*) \n",
    "FROM public.employers e\n",
    "JOIN public.vacancies v ON e.id = v.employer_id\n",
    "JOIN public.areas a ON a.id = v.area_id \n",
    "WHERE e.name like 'Яндекс' AND a.name in {tuple(city for city in df['Город'])}\n",
    "GROUP BY a.name)\n",
    "\n",
    "SELECT * FROM tbl\n",
    "\n",
    "UNION ALL\n",
    "\n",
    "SELECT 'Total',\n",
    "sum(tbl.count)\n",
    "FROM tbl\n",
    "ORDER BY 2\n",
    "'''"
   ]
  },
  {
   "cell_type": "code",
   "execution_count": 39,
   "id": "ttPhiO1rsvPq",
   "metadata": {
    "id": "ttPhiO1rsvPq"
   },
   "outputs": [
    {
     "name": "stderr",
     "output_type": "stream",
     "text": [
      "D:\\Temp\\ipykernel_15508\\763091750.py:2: UserWarning: pandas only supports SQLAlchemy connectable (engine/connection) or database string URI or sqlite3 DBAPI2 connection. Other DBAPI2 objects are not tested. Please consider using SQLAlchemy.\n",
      "  pd.read_sql_query(query, connection)\n"
     ]
    },
    {
     "data": {
      "text/html": [
       "<div>\n",
       "<style scoped>\n",
       "    .dataframe tbody tr th:only-of-type {\n",
       "        vertical-align: middle;\n",
       "    }\n",
       "\n",
       "    .dataframe tbody tr th {\n",
       "        vertical-align: top;\n",
       "    }\n",
       "\n",
       "    .dataframe thead th {\n",
       "        text-align: right;\n",
       "    }\n",
       "</style>\n",
       "<table border=\"1\" class=\"dataframe\">\n",
       "  <thead>\n",
       "    <tr style=\"text-align: right;\">\n",
       "      <th></th>\n",
       "      <th>name</th>\n",
       "      <th>count</th>\n",
       "    </tr>\n",
       "  </thead>\n",
       "  <tbody>\n",
       "    <tr>\n",
       "      <th>0</th>\n",
       "      <td>Омск</td>\n",
       "      <td>21.0</td>\n",
       "    </tr>\n",
       "    <tr>\n",
       "      <th>1</th>\n",
       "      <td>Челябинск</td>\n",
       "      <td>22.0</td>\n",
       "    </tr>\n",
       "    <tr>\n",
       "      <th>2</th>\n",
       "      <td>Красноярск</td>\n",
       "      <td>23.0</td>\n",
       "    </tr>\n",
       "    <tr>\n",
       "      <th>3</th>\n",
       "      <td>Волгоград</td>\n",
       "      <td>24.0</td>\n",
       "    </tr>\n",
       "    <tr>\n",
       "      <th>4</th>\n",
       "      <td>Пермь</td>\n",
       "      <td>25.0</td>\n",
       "    </tr>\n",
       "    <tr>\n",
       "      <th>5</th>\n",
       "      <td>Казань</td>\n",
       "      <td>25.0</td>\n",
       "    </tr>\n",
       "    <tr>\n",
       "      <th>6</th>\n",
       "      <td>Ростов-на-Дону</td>\n",
       "      <td>25.0</td>\n",
       "    </tr>\n",
       "    <tr>\n",
       "      <th>7</th>\n",
       "      <td>Самара</td>\n",
       "      <td>26.0</td>\n",
       "    </tr>\n",
       "    <tr>\n",
       "      <th>8</th>\n",
       "      <td>Уфа</td>\n",
       "      <td>26.0</td>\n",
       "    </tr>\n",
       "    <tr>\n",
       "      <th>9</th>\n",
       "      <td>Краснодар</td>\n",
       "      <td>30.0</td>\n",
       "    </tr>\n",
       "    <tr>\n",
       "      <th>10</th>\n",
       "      <td>Воронеж</td>\n",
       "      <td>32.0</td>\n",
       "    </tr>\n",
       "    <tr>\n",
       "      <th>11</th>\n",
       "      <td>Новосибирск</td>\n",
       "      <td>35.0</td>\n",
       "    </tr>\n",
       "    <tr>\n",
       "      <th>12</th>\n",
       "      <td>Нижний Новгород</td>\n",
       "      <td>36.0</td>\n",
       "    </tr>\n",
       "    <tr>\n",
       "      <th>13</th>\n",
       "      <td>Екатеринбург</td>\n",
       "      <td>39.0</td>\n",
       "    </tr>\n",
       "    <tr>\n",
       "      <th>14</th>\n",
       "      <td>Санкт-Петербург</td>\n",
       "      <td>42.0</td>\n",
       "    </tr>\n",
       "    <tr>\n",
       "      <th>15</th>\n",
       "      <td>Москва</td>\n",
       "      <td>54.0</td>\n",
       "    </tr>\n",
       "    <tr>\n",
       "      <th>16</th>\n",
       "      <td>Total</td>\n",
       "      <td>485.0</td>\n",
       "    </tr>\n",
       "  </tbody>\n",
       "</table>\n",
       "</div>"
      ],
      "text/plain": [
       "               name  count\n",
       "0              Омск   21.0\n",
       "1         Челябинск   22.0\n",
       "2        Красноярск   23.0\n",
       "3         Волгоград   24.0\n",
       "4             Пермь   25.0\n",
       "5            Казань   25.0\n",
       "6    Ростов-на-Дону   25.0\n",
       "7            Самара   26.0\n",
       "8               Уфа   26.0\n",
       "9         Краснодар   30.0\n",
       "10          Воронеж   32.0\n",
       "11      Новосибирск   35.0\n",
       "12  Нижний Новгород   36.0\n",
       "13     Екатеринбург   39.0\n",
       "14  Санкт-Петербург   42.0\n",
       "15           Москва   54.0\n",
       "16            Total  485.0"
      ]
     },
     "execution_count": 39,
     "metadata": {},
     "output_type": "execute_result"
    }
   ],
   "source": [
    "# результат запроса\n",
    "pd.read_sql_query(query, connection)"
   ]
  },
  {
   "cell_type": "markdown",
   "id": "04966e40-3bc3-4dc8-9ba2-e80580ce3abc",
   "metadata": {
    "id": "04966e40-3bc3-4dc8-9ba2-e80580ce3abc"
   },
   "source": [
    "***"
   ]
  },
  {
   "cell_type": "code",
   "execution_count": null,
   "id": "175335bb-ccb0-421b-a099-0971a6241c3e",
   "metadata": {},
   "outputs": [],
   "source": []
  },
  {
   "cell_type": "markdown",
   "id": "1b16df2b-d212-4b03-9b36-11b71e1a0424",
   "metadata": {
    "id": "aGGyER-yt4SR"
   },
   "source": [
    "# выводы по анализу работодателей\n",
    "1. По количеству вакансий на первом месте находится компания 'Яндекс'.\n",
    "2. Города-миллионники, которые лидировали по количеству вакансий, так же лидируют по количеству работодателей. Отдельно можно отметить регионы в которых большое количество работодателей, но отсутствуют вакансии, это можно отнести к тому, что у работодателя просто нет открытых вакансий или в вакансии не указан работодатель.\n",
    "3. По количеству регионов, в которых компания публикует свои записи, так же лидирует 'Яндекс'.\n",
    "4. Из 23501 вакансий в 8419 не указана сфера деятельности (примерно 36%).\n",
    "5. Компания у которой больше всего вакансий и имеет 4 сферы деятельности - 2ГИС.\n",
    "6. Примерно у 15% всех работодателей в качестве сферы деятельности указана Разработка программного обеспечения. На удивление, у компании 'Яндекс', по данным, находящейся на первом месте по количеству вакансий, в сфере деятельности <u>НЕ</u> указана Разработка программного обеспечения.\n",
    "7. Общее количество вакансий от компании 'Яндекс' , для городов-миллионников, составляет 485. Из них наименьшее количество в Омске, наибольшее в Москве.\n",
    "\n",
    "В таблице с регионами, присутствую как поселки городского типа, так и города, и даже страны. Например там есть Москва и Россия как разные регионы.\\\n",
    "Данные значения, лучше, в дальнейшем удалить или представить в виде городов, чтобы все значения соответствовали одной группе."
   ]
  },
  {
   "cell_type": "markdown",
   "id": "b1ef156a-efcb-49ce-bb23-90763e7f35b2",
   "metadata": {
    "id": "b1ef156a-efcb-49ce-bb23-90763e7f35b2",
    "tags": []
   },
   "source": [
    "# Юнит 6. Предметный анализ"
   ]
  },
  {
   "cell_type": "markdown",
   "id": "b9cd50a0-992d-4988-8463-2b2b1c4629b4",
   "metadata": {
    "id": "b9cd50a0-992d-4988-8463-2b2b1c4629b4"
   },
   "source": [
    "### 1. Сколько вакансий имеет отношение к данным?\n",
    "\n",
    "Считаем, что вакансия имеет отношение к данным, если в её названии содержатся слова 'data' или 'данн'.\n",
    "\n",
    "*Подсказка: Обратите внимание, что названия вакансий могут быть написаны в любом регистре.* \n"
   ]
  },
  {
   "cell_type": "code",
   "execution_count": 40,
   "id": "54ab0e50-c0f1-47cc-a54b-bc5c8bc363f9",
   "metadata": {
    "id": "54ab0e50-c0f1-47cc-a54b-bc5c8bc363f9"
   },
   "outputs": [],
   "source": [
    "# текст запроса\n",
    "query = f'''\n",
    "SELECT count(*)\n",
    "FROM \n",
    "(\n",
    "select lower(v.name) \"name\"          /* Посчитаем количество из таблицы с именами в нижнем регистре*/\n",
    "FROM public.vacancies v\n",
    ") t\n",
    "WHERE t.name LIKE '%data%' OR t.name LIKE '%данн%'\n",
    "'''"
   ]
  },
  {
   "cell_type": "code",
   "execution_count": 41,
   "id": "9F1meAqsuUjd",
   "metadata": {
    "id": "9F1meAqsuUjd"
   },
   "outputs": [
    {
     "name": "stderr",
     "output_type": "stream",
     "text": [
      "D:\\Temp\\ipykernel_15508\\763091750.py:2: UserWarning: pandas only supports SQLAlchemy connectable (engine/connection) or database string URI or sqlite3 DBAPI2 connection. Other DBAPI2 objects are not tested. Please consider using SQLAlchemy.\n",
      "  pd.read_sql_query(query, connection)\n"
     ]
    },
    {
     "data": {
      "text/html": [
       "<div>\n",
       "<style scoped>\n",
       "    .dataframe tbody tr th:only-of-type {\n",
       "        vertical-align: middle;\n",
       "    }\n",
       "\n",
       "    .dataframe tbody tr th {\n",
       "        vertical-align: top;\n",
       "    }\n",
       "\n",
       "    .dataframe thead th {\n",
       "        text-align: right;\n",
       "    }\n",
       "</style>\n",
       "<table border=\"1\" class=\"dataframe\">\n",
       "  <thead>\n",
       "    <tr style=\"text-align: right;\">\n",
       "      <th></th>\n",
       "      <th>count</th>\n",
       "    </tr>\n",
       "  </thead>\n",
       "  <tbody>\n",
       "    <tr>\n",
       "      <th>0</th>\n",
       "      <td>1771</td>\n",
       "    </tr>\n",
       "  </tbody>\n",
       "</table>\n",
       "</div>"
      ],
      "text/plain": [
       "   count\n",
       "0   1771"
      ]
     },
     "execution_count": 41,
     "metadata": {},
     "output_type": "execute_result"
    }
   ],
   "source": [
    "# результат запроса\n",
    "pd.read_sql_query(query, connection)"
   ]
  },
  {
   "cell_type": "markdown",
   "id": "4dea20cb-a36b-474a-a0b9-e08e8e3857a5",
   "metadata": {
    "id": "4dea20cb-a36b-474a-a0b9-e08e8e3857a5"
   },
   "source": [
    "### 2. Сколько есть подходящих вакансий для начинающего дата-сайентиста? \n",
    "Будем считать вакансиями для дата-сайентистов такие, в названии которых есть хотя бы одно из следующих сочетаний:\n",
    "* 'data scientist'\n",
    "* 'data science'\n",
    "* 'исследователь данных'\n",
    "* 'ML' (здесь не нужно брать вакансии по HTML)\n",
    "* 'machine learning'\n",
    "* 'машинн%обучен%'\n",
    "\n",
    "** В следующих заданиях мы продолжим работать с вакансиями по этому условию.*\n",
    "\n",
    "Считаем вакансиями для специалистов уровня Junior следующие:\n",
    "* в названии есть слово 'junior' *или*\n",
    "* требуемый опыт — Нет опыта *или*\n",
    "* тип трудоустройства — Стажировка.\n",
    " "
   ]
  },
  {
   "cell_type": "code",
   "execution_count": 37,
   "id": "9c61b3c0-bb66-46c9-ae1e-81d3f5752b4a",
   "metadata": {
    "id": "9c61b3c0-bb66-46c9-ae1e-81d3f5752b4a"
   },
   "outputs": [],
   "source": [
    "# текст запроса\n",
    "query = f'''\n",
    "SELECT count(*)\n",
    "FROM public.vacancies v\n",
    "WHERE \n",
    "(LOWER(v.name) LIKE '%data scientist%' OR\n",
    "LOWER(v.name) LIKE '%data science%' OR\n",
    "LOWER(v.name) LIKE '%исследователь данных%' OR\n",
    "(UPPER(v.name) LIKE '%ML%' AND NOT UPPER(v.name) LIKE '%HTML%') OR\n",
    "LOWER(v.name) LIKE '%machine learning%' OR\n",
    "LOWER(v.name) LIKE '%машинн%обучен%')\n",
    "AND\n",
    "(lower(v.name) LIKE '%junior%' OR\n",
    "v.experience LIKE '%Нет опыта%' OR\n",
    "v.employment LIKE '%Стажировка%')\n",
    "'''"
   ]
  },
  {
   "cell_type": "code",
   "execution_count": 38,
   "id": "ZNM-LLYuu1dj",
   "metadata": {
    "id": "ZNM-LLYuu1dj"
   },
   "outputs": [
    {
     "name": "stderr",
     "output_type": "stream",
     "text": [
      "D:\\Temp\\ipykernel_11388\\763091750.py:2: UserWarning: pandas only supports SQLAlchemy connectable (engine/connection) or database string URI or sqlite3 DBAPI2 connection. Other DBAPI2 objects are not tested. Please consider using SQLAlchemy.\n",
      "  pd.read_sql_query(query, connection)\n"
     ]
    },
    {
     "data": {
      "text/html": [
       "<div>\n",
       "<style scoped>\n",
       "    .dataframe tbody tr th:only-of-type {\n",
       "        vertical-align: middle;\n",
       "    }\n",
       "\n",
       "    .dataframe tbody tr th {\n",
       "        vertical-align: top;\n",
       "    }\n",
       "\n",
       "    .dataframe thead th {\n",
       "        text-align: right;\n",
       "    }\n",
       "</style>\n",
       "<table border=\"1\" class=\"dataframe\">\n",
       "  <thead>\n",
       "    <tr style=\"text-align: right;\">\n",
       "      <th></th>\n",
       "      <th>count</th>\n",
       "    </tr>\n",
       "  </thead>\n",
       "  <tbody>\n",
       "    <tr>\n",
       "      <th>0</th>\n",
       "      <td>51</td>\n",
       "    </tr>\n",
       "  </tbody>\n",
       "</table>\n",
       "</div>"
      ],
      "text/plain": [
       "   count\n",
       "0     51"
      ]
     },
     "execution_count": 38,
     "metadata": {},
     "output_type": "execute_result"
    }
   ],
   "source": [
    "# результат запроса\n",
    "pd.read_sql_query(query, connection)"
   ]
  },
  {
   "cell_type": "markdown",
   "id": "eedceb80-c5ca-480e-b27a-278dfb8b4438",
   "metadata": {
    "id": "eedceb80-c5ca-480e-b27a-278dfb8b4438"
   },
   "source": [
    "### 3. Сколько есть вакансий для DS, в которых в качестве ключевого навыка указан SQL или postgres?\n",
    "\n",
    "** Критерии для отнесения вакансии к DS указаны в предыдущем задании.*"
   ]
  },
  {
   "cell_type": "code",
   "execution_count": 42,
   "id": "69621713-0cc5-4f1b-a1d7-bb144fa6148c",
   "metadata": {
    "id": "69621713-0cc5-4f1b-a1d7-bb144fa6148c"
   },
   "outputs": [],
   "source": [
    "# текст запроса\n",
    "query = f'''\n",
    "SELECT count(*)\n",
    "FROM public.vacancies v\n",
    "WHERE \n",
    "(LOWER(v.name) LIKE '%data scientist%' OR\n",
    "LOWER(v.name) LIKE '%data science%' OR\n",
    "LOWER(v.name) LIKE '%исследователь данных%' OR\n",
    "(UPPER(v.name) LIKE '%ML%' AND NOT UPPER(v.name) LIKE '%HTML%') OR\n",
    "LOWER(v.name) LIKE '%machine learning%' OR\n",
    "LOWER(v.name) LIKE '%машинн%обучен%')\n",
    "AND\n",
    "(UPPER(v.key_skills) LIKE '%SQL%' OR\n",
    "LOWER(v.key_skills) LIKE '%postgres%')\n",
    "'''"
   ]
  },
  {
   "cell_type": "code",
   "execution_count": 43,
   "id": "alA8WEAAvGdf",
   "metadata": {
    "id": "alA8WEAAvGdf"
   },
   "outputs": [
    {
     "name": "stderr",
     "output_type": "stream",
     "text": [
      "D:\\Temp\\ipykernel_13528\\763091750.py:2: UserWarning: pandas only supports SQLAlchemy connectable (engine/connection) or database string URI or sqlite3 DBAPI2 connection. Other DBAPI2 objects are not tested. Please consider using SQLAlchemy.\n",
      "  pd.read_sql_query(query, connection)\n"
     ]
    },
    {
     "data": {
      "text/html": [
       "<div>\n",
       "<style scoped>\n",
       "    .dataframe tbody tr th:only-of-type {\n",
       "        vertical-align: middle;\n",
       "    }\n",
       "\n",
       "    .dataframe tbody tr th {\n",
       "        vertical-align: top;\n",
       "    }\n",
       "\n",
       "    .dataframe thead th {\n",
       "        text-align: right;\n",
       "    }\n",
       "</style>\n",
       "<table border=\"1\" class=\"dataframe\">\n",
       "  <thead>\n",
       "    <tr style=\"text-align: right;\">\n",
       "      <th></th>\n",
       "      <th>count</th>\n",
       "    </tr>\n",
       "  </thead>\n",
       "  <tbody>\n",
       "    <tr>\n",
       "      <th>0</th>\n",
       "      <td>229</td>\n",
       "    </tr>\n",
       "  </tbody>\n",
       "</table>\n",
       "</div>"
      ],
      "text/plain": [
       "   count\n",
       "0    229"
      ]
     },
     "execution_count": 43,
     "metadata": {},
     "output_type": "execute_result"
    }
   ],
   "source": [
    "# результат запроса\n",
    "pd.read_sql_query(query, connection)"
   ]
  },
  {
   "cell_type": "markdown",
   "id": "1be1e9c6-37cf-4a5f-bfeb-04cab799dc80",
   "metadata": {
    "id": "1be1e9c6-37cf-4a5f-bfeb-04cab799dc80"
   },
   "source": [
    "### 4. Проверьте, насколько популярен Python в требованиях работодателей к DS.Для этого вычислите количество вакансий, в которых в качестве ключевого навыка указан Python.\n",
    "\n",
    "** Это можно сделать помощью запроса, аналогичного предыдущему.*"
   ]
  },
  {
   "cell_type": "code",
   "execution_count": 8,
   "id": "0036a355-9ccf-4564-8b01-73d8194297e7",
   "metadata": {
    "id": "0036a355-9ccf-4564-8b01-73d8194297e7"
   },
   "outputs": [],
   "source": [
    "# текст запроса\n",
    "query = f'''\n",
    "SELECT count(*)\n",
    "FROM public.vacancies v\n",
    "WHERE \n",
    "(LOWER(v.name) LIKE '%data scientist%' OR\n",
    "LOWER(v.name) LIKE '%data science%' OR\n",
    "LOWER(v.name) LIKE '%исследователь данных%' OR\n",
    "(UPPER(v.name) LIKE '%ML%' AND NOT UPPER(v.name) LIKE '%HTML%') OR\n",
    "LOWER(v.name) LIKE '%machine learning%' OR\n",
    "LOWER(v.name) LIKE '%машинн%обучен%')\n",
    "AND\n",
    "LOWER(v.key_skills) LIKE '%python%' \n",
    "'''"
   ]
  },
  {
   "cell_type": "code",
   "execution_count": 9,
   "id": "1i-5WyucvQ6v",
   "metadata": {
    "id": "1i-5WyucvQ6v"
   },
   "outputs": [
    {
     "name": "stderr",
     "output_type": "stream",
     "text": [
      "D:\\Temp\\ipykernel_15776\\763091750.py:2: UserWarning: pandas only supports SQLAlchemy connectable (engine/connection) or database string URI or sqlite3 DBAPI2 connection. Other DBAPI2 objects are not tested. Please consider using SQLAlchemy.\n",
      "  pd.read_sql_query(query, connection)\n"
     ]
    },
    {
     "data": {
      "text/html": [
       "<div>\n",
       "<style scoped>\n",
       "    .dataframe tbody tr th:only-of-type {\n",
       "        vertical-align: middle;\n",
       "    }\n",
       "\n",
       "    .dataframe tbody tr th {\n",
       "        vertical-align: top;\n",
       "    }\n",
       "\n",
       "    .dataframe thead th {\n",
       "        text-align: right;\n",
       "    }\n",
       "</style>\n",
       "<table border=\"1\" class=\"dataframe\">\n",
       "  <thead>\n",
       "    <tr style=\"text-align: right;\">\n",
       "      <th></th>\n",
       "      <th>count</th>\n",
       "    </tr>\n",
       "  </thead>\n",
       "  <tbody>\n",
       "    <tr>\n",
       "      <th>0</th>\n",
       "      <td>357</td>\n",
       "    </tr>\n",
       "  </tbody>\n",
       "</table>\n",
       "</div>"
      ],
      "text/plain": [
       "   count\n",
       "0    357"
      ]
     },
     "execution_count": 9,
     "metadata": {},
     "output_type": "execute_result"
    }
   ],
   "source": [
    "# результат запроса\n",
    "pd.read_sql_query(query, connection)"
   ]
  },
  {
   "cell_type": "markdown",
   "id": "ec3c8db7-fa21-4a41-a994-1af63742a642",
   "metadata": {
    "id": "ec3c8db7-fa21-4a41-a994-1af63742a642"
   },
   "source": [
    "### 5. Сколько ключевых навыков в среднем указывают в вакансиях для DS?\n",
    "Ответ округлите до двух знаков после точки-разделителя."
   ]
  },
  {
   "cell_type": "code",
   "execution_count": 46,
   "id": "949132bc-d5b6-4611-8218-0b9a504d74f4",
   "metadata": {
    "id": "949132bc-d5b6-4611-8218-0b9a504d74f4"
   },
   "outputs": [],
   "source": [
    "# текст запроса\n",
    "query = f'''\n",
    "SELECT v.key_skills \"skills\"\n",
    "FROM public.vacancies v\n",
    "WHERE \n",
    "LOWER(v.name) LIKE '%data scientist%' OR\n",
    "LOWER(v.name) LIKE '%data science%' OR\n",
    "LOWER(v.name) LIKE '%исследователь данных%' OR\n",
    "(v.name LIKE '%ML%' AND NOT UPPER(v.name) LIKE '%HTML%') OR \n",
    "LOWER(v.name) LIKE '%machine learning%' OR\n",
    "LOWER(v.name) LIKE '%машинн%обучен%'\n",
    "'''"
   ]
  },
  {
   "cell_type": "code",
   "execution_count": 47,
   "id": "a3V24Tvmviqk",
   "metadata": {
    "id": "a3V24Tvmviqk"
   },
   "outputs": [
    {
     "name": "stderr",
     "output_type": "stream",
     "text": [
      "D:\\Temp\\ipykernel_13528\\1714276914.py:2: UserWarning: pandas only supports SQLAlchemy connectable (engine/connection) or database string URI or sqlite3 DBAPI2 connection. Other DBAPI2 objects are not tested. Please consider using SQLAlchemy.\n",
      "  pd.read_sql_query(query, connection)['skills'].dropna().apply(lambda x: len(x.split('\\t'))).agg('mean').round(2)\n"
     ]
    },
    {
     "data": {
      "text/plain": [
       "np.float64(6.41)"
      ]
     },
     "execution_count": 47,
     "metadata": {},
     "output_type": "execute_result"
    }
   ],
   "source": [
    "# результат запроса\n",
    "pd.read_sql_query(query, connection)['skills'].dropna().apply(lambda x: len(x.split('\\t'))).agg('mean').round(2)"
   ]
  },
  {
   "cell_type": "markdown",
   "id": "1041c17a-ca8f-4543-a0ca-32778914fb00",
   "metadata": {
    "id": "1041c17a-ca8f-4543-a0ca-32778914fb00"
   },
   "source": [
    "### 6. Напишите запрос, позволяющий вычислить, какую зарплату для DS в **среднем** указывают для каждого типа требуемого опыта (уникальное значение из поля *experience*). \n",
    "\n",
    "При решении задачи примите во внимание следующее:\n",
    "1. Рассматриваем только вакансии, у которых заполнено хотя бы одно из двух полей с зарплатой.\n",
    "2. Если заполнены оба поля с зарплатой, то считаем зарплату по каждой вакансии как сумму двух полей, делённую на 2. Если заполнено только одно из полей, то его и считаем зарплатой по вакансии.\n",
    "3. Если в расчётах участвует null, в результате он тоже даст null (посмотрите, что возвращает запрос select 1 + null). Чтобы избежать этой ситуацию, мы воспользуемся функцией [coalesce](https://postgrespro.ru/docs/postgresql/9.5/functions-conditional#functions-coalesce-nvl-ifnull), которая заменит null на значение, которое мы передадим. Например, посмотрите, что возвращает запрос `select 1 + coalesce(null, 0)`\n",
    "\n",
    "**Выясните, на какую зарплату в среднем может рассчитывать дата-сайентист с опытом работы от 3 до 6 лет. Результат округлите до целого числа.**"
   ]
  },
  {
   "cell_type": "code",
   "execution_count": 4,
   "id": "6a743d39-5204-48d3-8271-b9f88e68d40e",
   "metadata": {
    "id": "6a743d39-5204-48d3-8271-b9f88e68d40e"
   },
   "outputs": [],
   "source": [
    "# текст запроса\n",
    "query = f'''\n",
    "SELECT DISTINCT criteria.experience,\n",
    "ROUND(                                                                       /* Задаем условия при которых формируется средняя заработная плата*/\n",
    "    AVG( \n",
    "        CASE\n",
    "            WHEN criteria.salary_from IS NULL THEN criteria.salary_to\n",
    "            WHEN criteria.salary_to IS NULL THEN criteria.salary_from\n",
    "            ELSE (criteria.salary_from + criteria.salary_to) / 2\n",
    "        END\n",
    "        )\n",
    "    ) \"Средняя ЗП\"\n",
    "FROM\n",
    "(\n",
    "SELECT *\n",
    "FROM public.vacancies v\n",
    "WHERE \n",
    "LOWER(v.name) LIKE '%data scientist%' OR\n",
    "LOWER(v.name) LIKE '%data science%' OR\n",
    "LOWER(v.name) LIKE '%исследователь данных%' OR\n",
    "(v.name LIKE '%ML%' AND NOT UPPER(v.name) LIKE '%HTML%') OR\n",
    "LOWER(v.name) LIKE '%machine learning%' OR\n",
    "LOWER(v.name) LIKE '%машинн%обучен%'\n",
    ") criteria\n",
    "WHERE criteria.salary_from IS NOT NULL OR criteria.salary_to IS NOT NULL     /* Выбираем только те строки в которых заполнен хотябы 1 столбец с зарплатой*/\n",
    "GROUP BY criteria.experience\n",
    "HAVING criteria.experience LIKE '%От 3 до 6 лет%'\n",
    "'''"
   ]
  },
  {
   "cell_type": "code",
   "execution_count": 5,
   "id": "aRIJ0mZEwU1_",
   "metadata": {
    "id": "aRIJ0mZEwU1_"
   },
   "outputs": [
    {
     "name": "stderr",
     "output_type": "stream",
     "text": [
      "D:\\Temp\\ipykernel_19412\\763091750.py:2: UserWarning: pandas only supports SQLAlchemy connectable (engine/connection) or database string URI or sqlite3 DBAPI2 connection. Other DBAPI2 objects are not tested. Please consider using SQLAlchemy.\n",
      "  pd.read_sql_query(query, connection)\n"
     ]
    },
    {
     "data": {
      "text/html": [
       "<div>\n",
       "<style scoped>\n",
       "    .dataframe tbody tr th:only-of-type {\n",
       "        vertical-align: middle;\n",
       "    }\n",
       "\n",
       "    .dataframe tbody tr th {\n",
       "        vertical-align: top;\n",
       "    }\n",
       "\n",
       "    .dataframe thead th {\n",
       "        text-align: right;\n",
       "    }\n",
       "</style>\n",
       "<table border=\"1\" class=\"dataframe\">\n",
       "  <thead>\n",
       "    <tr style=\"text-align: right;\">\n",
       "      <th></th>\n",
       "      <th>experience</th>\n",
       "      <th>Средняя ЗП</th>\n",
       "    </tr>\n",
       "  </thead>\n",
       "  <tbody>\n",
       "    <tr>\n",
       "      <th>0</th>\n",
       "      <td>От 3 до 6 лет</td>\n",
       "      <td>243115.0</td>\n",
       "    </tr>\n",
       "  </tbody>\n",
       "</table>\n",
       "</div>"
      ],
      "text/plain": [
       "      experience  Средняя ЗП\n",
       "0  От 3 до 6 лет    243115.0"
      ]
     },
     "execution_count": 5,
     "metadata": {},
     "output_type": "execute_result"
    }
   ],
   "source": [
    "# результат запроса\n",
    "pd.read_sql_query(query, connection)"
   ]
  },
  {
   "cell_type": "markdown",
   "id": "6a7892b4-4113-4746-adce-18aa2844f18e",
   "metadata": {
    "id": "6a7892b4-4113-4746-adce-18aa2844f18e"
   },
   "source": [
    "***"
   ]
  },
  {
   "cell_type": "markdown",
   "id": "f3838405-ae2a-4f9f-8059-b55275b14bb3",
   "metadata": {
    "id": "UjLWUptVwY1o"
   },
   "source": [
    "# выводы по предметному анализу\n",
    "\n",
    "1. По первому пунку, подходящих вакансий, в которых встречается части слова 'data' и 'данн', 1771.\n",
    "2. Во втором пункте, мы добавляем дополнительные параметры фильтрации, что сокращает наш диапазон подходящих вакансий до 536. Здесь же выбираем из них вакансии для уровня <u>junior</u> - получается 51 вакантная должность.\n",
    "3. Количество вакансий в которых в качестве ключевого навыка указаны 'sql' или 'postgresql' 229. \n",
    "4. Количество вакансий в которых в качестве ключевого навыка указаны 'python' - 357.\n",
    "5. В среднем количество ключевых навыков которые указывает работодатель примерно равно 6.\n",
    "6. Средняя заработная плата для профессии Data Science, со стажем от 3 до 6 лет составляет 243115.\n"
   ]
  },
  {
   "cell_type": "markdown",
   "id": "c0ED6fh7wiBT",
   "metadata": {
    "id": "c0ED6fh7wiBT"
   },
   "source": [
    "# Общий вывод по проекту"
   ]
  },
  {
   "cell_type": "markdown",
   "id": "48c1699b-b7c0-45a2-b91c-fd25c479f7b2",
   "metadata": {
    "id": "h9B3BL-wwj18"
   },
   "source": [
    "## подведем итог исследования, обобщите выводы\n",
    "\n",
    "В общем можно отметить большое количество пропущенной информации в БД. Лишь 24% всех вакансий полностью заполнены.\\\n",
    "Самой восстребованной вакансией является Системный администратор, а самым восстребованным навыком - 'python'.\\\n",
    "Количество указанных ключевых навыков не влияют на заработную плату.\\\n",
    "Работодателей достаточно много и если посмотреть в общем на количество их вакансий в больших городах, то их отношение почти равняется. Напротив в городах поменьше количество вакансий намного превосходит количество работодателей.\n",
    "\n",
    "## здесь можно (это будет плюсом) провести дополнительные исследования данных, сделать прогнозы, продумать варианты продолжения исследования\n",
    "\n",
    "**Нашей основной целью, по условию задачи, является создание модели машинного обучения, которая будет рекомендовать вакансии клиентам агентства, претендующим на позицию Data Scientist.\\\n",
    "Что бы понять, какие вакансии являются более подходящими, нам нужно в первую очередь определить <u>наиболее выжные признаки для соискателя</u>. Для примера,  возьмем исследование сервиса по поиску высокооплачиваемой работы SuperJob. В опросе приняли участие представители работодателей и экономически активные россияне из всех округов страны.**\n",
    "\n",
    "**Место проведения опроса: Россия, все округа\\\n",
    "Населенных пунктов: 245\\\n",
    "Время проведения: 21—29 июля 2022 года\\\n",
    "Исследуемая совокупность: менеджеры по персоналу и другие представители кадровых служб предприятий и организаций, ответственные за подбор персонала\\\n",
    "Размер выборки: 500 респондентов\\\n",
    "Вопрос: ***«Какие три фактора, на ваш взгляд, являются самыми важными для соискателей при выборе места работы?»*** (без учета респондентов, затруднившихся с ответом)**"
   ]
  },
  {
   "cell_type": "code",
   "execution_count": 50,
   "id": "41cc8dd8-3228-4a79-879f-a3436984cd73",
   "metadata": {},
   "outputs": [
    {
     "data": {
      "text/html": [
       "<div>\n",
       "<style scoped>\n",
       "    .dataframe tbody tr th:only-of-type {\n",
       "        vertical-align: middle;\n",
       "    }\n",
       "\n",
       "    .dataframe tbody tr th {\n",
       "        vertical-align: top;\n",
       "    }\n",
       "\n",
       "    .dataframe thead th {\n",
       "        text-align: right;\n",
       "    }\n",
       "</style>\n",
       "<table border=\"1\" class=\"dataframe\">\n",
       "  <thead>\n",
       "    <tr style=\"text-align: right;\">\n",
       "      <th></th>\n",
       "      <th>Вариант ответа</th>\n",
       "      <th>2022</th>\n",
       "      <th>2021</th>\n",
       "      <th>2019</th>\n",
       "      <th>2016</th>\n",
       "      <th>2015</th>\n",
       "    </tr>\n",
       "  </thead>\n",
       "  <tbody>\n",
       "    <tr>\n",
       "      <th>1</th>\n",
       "      <td>Высокий уровень оплаты труда</td>\n",
       "      <td>71%</td>\n",
       "      <td>61%</td>\n",
       "      <td>74%</td>\n",
       "      <td>74%</td>\n",
       "      <td>69%</td>\n",
       "    </tr>\n",
       "    <tr>\n",
       "      <th>2</th>\n",
       "      <td>Стабильность/устойчивость компании</td>\n",
       "      <td>52%</td>\n",
       "      <td>46%</td>\n",
       "      <td>50%</td>\n",
       "      <td>54%</td>\n",
       "      <td>55%</td>\n",
       "    </tr>\n",
       "    <tr>\n",
       "      <th>3</th>\n",
       "      <td>Удобное расположение</td>\n",
       "      <td>39%</td>\n",
       "      <td>35%</td>\n",
       "      <td>38%</td>\n",
       "      <td>33%</td>\n",
       "      <td>28%</td>\n",
       "    </tr>\n",
       "  </tbody>\n",
       "</table>\n",
       "</div>"
      ],
      "text/plain": [
       "                       Вариант ответа 2022 2021 2019 2016 2015\n",
       "1        Высокий уровень оплаты труда  71%  61%  74%  74%  69%\n",
       "2  Стабильность/устойчивость компании  52%  46%  50%  54%  55%\n",
       "3                Удобное расположение  39%  35%  38%  33%  28%"
      ]
     },
     "execution_count": 50,
     "metadata": {},
     "output_type": "execute_result"
    }
   ],
   "source": [
    "# В таблице присутствуют данные по опросам за предыдущие годы\n",
    "url = r'https://www.superjob.ru/research/articles/113593/top-3-prioritetnyh-faktorov-pri-vybore-raboty-soiskatelyami/#:~:text=%D0%9D%D0%B0%D0%B8%D0%B1%D0%BE%D0%BB%D0%B5%D0%B5%20%D0%B2%D0%B0%D0%B6%D0%BD%D1%8B%D0%BC%20%D1%84%D0%B0%D0%BA%D1%82%D0%BE%D1%80%D0%BE%D0%BC%20%D0%BF%D1%80%D0%B8%20%D0%B2%D1%8B%D0%B1%D0%BE%D1%80%D0%B5,28%25%20%E2%80%94%20%D0%BA%D0%BE%D0%BC%D1%84%D0%BE%D1%80%D1%82%D0%BD%D0%B0%D1%8F%20%D0%BF%D1%81%D0%B8%D1%85%D0%BE%D0%BB%D0%BE%D0%B3%D0%B8%D1%87%D0%B5%D1%81%D0%BA%D0%B0%D1%8F%20%D1%81%D1%80%D0%B5%D0%B4%D0%B0.'\n",
    "response = requests.get(url)\n",
    "soup = BeautifulSoup(response.text, 'html.parser')\n",
    "rows = soup.find('table', attrs={'class': 'table', 'table-id': '62e3b46dadbb7'})\n",
    "\n",
    "headers = [t.text.strip() for t in rows.find('thead').find('tr').find_all('td')]\n",
    "body = [[i.text.strip() for i in row.find_all('td')] for row in rows.find('tbody').find_all('tr')]\n",
    "\n",
    "df = pd.DataFrame(body, columns=headers)\n",
    "df.index = df.index + 1\n",
    "df[:3]"
   ]
  },
  {
   "cell_type": "markdown",
   "id": "241ea013-4bb1-4d96-8958-ab5d3672eec6",
   "metadata": {},
   "source": [
    "__На первом месте__ — **Высокий уровень оплаты труда (71%).**\\\n",
    "__На втором месте__ — **Стабильность/устойчивость компании (52%),**\\\n",
    "__На третьем__ — **Удобное расположение (39%).**\\\n",
    "\\\n",
    "**По данным показателям выберем для своей модели 3 аналогичных признака:**\\\n",
    "**1. В наших данных, в признаке заработная плата, очень много пропущенных значений(452 из 536 подходящих для нас вакансий!) это примерно <u>84%</u>, что является большой проблемой т.к данный признак является ключевым.**"
   ]
  },
  {
   "cell_type": "code",
   "execution_count": 97,
   "id": "b46ce436-9ebb-43ea-8a4f-081c12a9be62",
   "metadata": {},
   "outputs": [
    {
     "name": "stderr",
     "output_type": "stream",
     "text": [
      "D:\\Temp\\ipykernel_13528\\3321744322.py:39: UserWarning: pandas only supports SQLAlchemy connectable (engine/connection) or database string URI or sqlite3 DBAPI2 connection. Other DBAPI2 objects are not tested. Please consider using SQLAlchemy.\n",
      "  pd.read_sql_query(query, connection)\n"
     ]
    },
    {
     "data": {
      "text/html": [
       "<div>\n",
       "<style scoped>\n",
       "    .dataframe tbody tr th:only-of-type {\n",
       "        vertical-align: middle;\n",
       "    }\n",
       "\n",
       "    .dataframe tbody tr th {\n",
       "        vertical-align: top;\n",
       "    }\n",
       "\n",
       "    .dataframe thead th {\n",
       "        text-align: right;\n",
       "    }\n",
       "</style>\n",
       "<table border=\"1\" class=\"dataframe\">\n",
       "  <thead>\n",
       "    <tr style=\"text-align: right;\">\n",
       "      <th></th>\n",
       "      <th>experience</th>\n",
       "      <th>Кол-во вакансий с ЗП</th>\n",
       "      <th>Кол-во вакансий без ЗП</th>\n",
       "    </tr>\n",
       "  </thead>\n",
       "  <tbody>\n",
       "    <tr>\n",
       "      <th>0</th>\n",
       "      <td>Нет опыта</td>\n",
       "      <td>7</td>\n",
       "      <td>21</td>\n",
       "    </tr>\n",
       "    <tr>\n",
       "      <th>1</th>\n",
       "      <td>Более 6 лет</td>\n",
       "      <td>4</td>\n",
       "      <td>39</td>\n",
       "    </tr>\n",
       "    <tr>\n",
       "      <th>2</th>\n",
       "      <td>От 3 до 6 лет</td>\n",
       "      <td>41</td>\n",
       "      <td>187</td>\n",
       "    </tr>\n",
       "    <tr>\n",
       "      <th>3</th>\n",
       "      <td>От 1 года до 3 лет</td>\n",
       "      <td>32</td>\n",
       "      <td>205</td>\n",
       "    </tr>\n",
       "  </tbody>\n",
       "</table>\n",
       "</div>"
      ],
      "text/plain": [
       "           experience  Кол-во вакансий с ЗП  Кол-во вакансий без ЗП\n",
       "0           Нет опыта                     7                      21\n",
       "1         Более 6 лет                     4                      39\n",
       "2       От 3 до 6 лет                    41                     187\n",
       "3  От 1 года до 3 лет                    32                     205"
      ]
     },
     "execution_count": 97,
     "metadata": {},
     "output_type": "execute_result"
    }
   ],
   "source": [
    "# Количество вакансий в которых пропущенны значения зарплатной вилки для вакансий Data Science, разделенные по группам\n",
    "\n",
    "query = f'''\n",
    "SELECT \n",
    "with_zp.experience, \n",
    "with_zp.\"Кол-во вакансий с ЗП\",\n",
    "without_zp.\"Кол-во вакансий без ЗП\"\n",
    "FROM\n",
    "(\n",
    "SELECT distinct v.experience,\n",
    "COUNT(*) \"Кол-во вакансий без ЗП\"\n",
    "FROM public.vacancies v\n",
    "WHERE \n",
    "(LOWER(v.name) LIKE '%data scientist%' OR\n",
    "LOWER(v.name) LIKE '%data science%' OR\n",
    "LOWER(v.name) LIKE '%исследователь данных%' OR\n",
    "(UPPER(v.name) LIKE '%ML%' AND NOT UPPER(v.name) LIKE '%HTML%') OR\n",
    "LOWER(v.name) LIKE '%machine learning%' OR\n",
    "LOWER(v.name) LIKE '%машинн%обучен%')\n",
    "AND (v.salary_from IS NULL AND v.salary_to IS NULL)\n",
    "GROUP BY v.experience\n",
    "ORDER BY 2\n",
    ") without_zp\n",
    "\n",
    "JOIN \n",
    "\n",
    "(\n",
    "SELECT distinct v.experience,\n",
    "COUNT(*) \"Кол-во вакансий с ЗП\"\n",
    "FROM public.vacancies v\n",
    "WHERE \n",
    "(LOWER(v.name) LIKE '%data scientist%' OR\n",
    "LOWER(v.name) LIKE '%data science%' OR\n",
    "LOWER(v.name) LIKE '%исследователь данных%' OR\n",
    "(UPPER(v.name) LIKE '%ML%' AND NOT UPPER(v.name) LIKE '%HTML%') OR\n",
    "LOWER(v.name) LIKE '%machine learning%' OR\n",
    "LOWER(v.name) LIKE '%машинн%обучен%')\n",
    "AND (v.salary_from IS NOT NULL OR v.salary_to IS NOT NULL)\n",
    "GROUP BY v.experience\n",
    "ORDER BY 2\n",
    ") with_zp ON without_zp.experience = with_zp.experience\n",
    "'''\n",
    "\n",
    "pd.read_sql_query(query, connection)"
   ]
  },
  {
   "cell_type": "markdown",
   "id": "71ca8454-21c1-4d71-ae74-65e79d7e7fa6",
   "metadata": {},
   "source": [
    "\n",
    "**Попробуем создать дополнительный столбец со средней заработной платой, которая будет высчитываться аналогично задаче 6 в Юните 6\n",
    ", только пропущенные значения мы будем заполнять средним сначением для этой группы.**"
   ]
  },
  {
   "cell_type": "code",
   "execution_count": 44,
   "id": "ebf297a7-5d27-425c-b5c7-0dac8521cadb",
   "metadata": {},
   "outputs": [
    {
     "name": "stderr",
     "output_type": "stream",
     "text": [
      "D:\\Temp\\ipykernel_15508\\262457643.py:33: UserWarning: pandas only supports SQLAlchemy connectable (engine/connection) or database string URI or sqlite3 DBAPI2 connection. Other DBAPI2 objects are not tested. Please consider using SQLAlchemy.\n",
      "  df = pd.read_sql_query(query, connection)\n",
      "D:\\Temp\\ipykernel_15508\\262457643.py:74: UserWarning: pandas only supports SQLAlchemy connectable (engine/connection) or database string URI or sqlite3 DBAPI2 connection. Other DBAPI2 objects are not tested. Please consider using SQLAlchemy.\n",
      "  df_bd = pd.read_sql_query(query2, connection)\n"
     ]
    },
    {
     "data": {
      "text/plain": [
       "np.int64(480)"
      ]
     },
     "execution_count": 44,
     "metadata": {},
     "output_type": "execute_result"
    }
   ],
   "source": [
    "query = f'''\n",
    "SELECT DISTINCT criteria.experience,\n",
    "ROUND(                                                                       /* Задаем условия при которых формируется средняя заработная плата*/\n",
    "    AVG( \n",
    "        CASE\n",
    "            WHEN criteria.salary_from IS NULL THEN criteria.salary_to\n",
    "            WHEN criteria.salary_to IS NULL THEN criteria.salary_from\n",
    "            ELSE (criteria.salary_from + criteria.salary_to) / 2\n",
    "        END\n",
    "        )\n",
    "    ) \"Среднее\"\n",
    "FROM\n",
    "(\n",
    "SELECT *\n",
    "FROM public.vacancies v\n",
    "WHERE \n",
    "LOWER(v.name) LIKE '%data scientist%' OR\n",
    "LOWER(v.name) LIKE '%data science%' OR\n",
    "LOWER(v.name) LIKE '%исследователь данных%' OR\n",
    "(v.name LIKE '%ML%' AND NOT UPPER(v.name) LIKE '%HTML%') OR\n",
    "LOWER(v.name) LIKE '%machine learning%' OR\n",
    "LOWER(v.name) LIKE '%машинн%обучен%'\n",
    ") criteria\n",
    "WHERE criteria.salary_from IS NOT NULL OR criteria.salary_to IS NOT NULL     /* Выбираем только те строки в которых заполнен хотябы 1 столбец с зарплатой*/\n",
    "GROUP BY criteria.experience\n",
    "ORDER BY 2\n",
    "'''\n",
    "\n",
    "''' \n",
    "Данные по среднему значению заработной платы разделенные на группы. В данных не оказалось значений для группы 'Более 6 лет', это означает, что\n",
    "все вакансии с опытом работы 'Более 6 лет' не имеют ни нижней, ни верхней граница оплаты труда. \n",
    "'''\n",
    "df = pd.read_sql_query(query, connection) \n",
    "\n",
    "''' \n",
    "Чтобы заполнить недостающие значения для группы 'Более 6 лет' вычислим тенденцию роста ЗП.\n",
    "Из каждой группы, кроме первой, вычисляем процент увеличения ЗП по отношению к первой группе.\n",
    "Из них получаем процент увелчиения ЗП для третьей группы и испольуем его для формирования среднего значения по группе 'Более 6 лет'\n",
    "'''\n",
    "perc_grow1 = round(df['Среднее'][1] / df['Среднее'][0] * 100 - 100)         \n",
    "perc_grow2 = round(df['Среднее'][2] / df['Среднее'][0] * 100 - 100)\n",
    "perc_grow3 = (perc_grow2 - perc_grow1) + perc_grow2\n",
    "\n",
    "\n",
    "query2 = f'''\n",
    "SELECT *, \n",
    "        CASE\n",
    "            WHEN criteria.salary_from IS NULL AND criteria.salary_to IS NULL THEN {df['Среднее'][0] * (perc_grow3 / 100 + 1)}\n",
    "            \n",
    "            WHEN criteria.salary_from IS NULL AND criteria.experience LIKE 'Нет опыта' THEN {df['Среднее'][0]}\n",
    "            WHEN criteria.salary_from IS NULL AND criteria.experience LIKE 'От 1 года до 3 лет' THEN {df['Среднее'][1]}\n",
    "            WHEN criteria.salary_from IS NULL AND criteria.experience LIKE 'От 3 до 6 лет' THEN {df['Среднее'][2]}\n",
    "            \n",
    "            WHEN criteria.salary_to IS NULL AND criteria.experience LIKE 'Нет опыта' THEN {df['Среднее'][0]} \n",
    "            WHEN criteria.salary_to IS NULL AND criteria.experience LIKE 'От 1 года до 3 лет' THEN {df['Среднее'][1]} \n",
    "            WHEN criteria.salary_to IS NULL AND criteria.experience LIKE 'От 3 до 6 лет' THEN {df['Среднее'][2]} \n",
    "            ELSE (criteria.salary_from + criteria.salary_to) / 2\n",
    "        END \"Средняя ЗП\"\n",
    "FROM\n",
    "(\n",
    "SELECT *\n",
    "FROM public.vacancies v\n",
    "WHERE \n",
    "LOWER(v.name) LIKE '%data scientist%' OR\n",
    "LOWER(v.name) LIKE '%data science%' OR\n",
    "LOWER(v.name) LIKE '%исследователь данных%' OR\n",
    "(v.name LIKE '%ML%' AND NOT UPPER(v.name) LIKE '%HTML%') OR\n",
    "LOWER(v.name) LIKE '%machine learning%' OR\n",
    "LOWER(v.name) LIKE '%машинн%обучен%'\n",
    ") criteria\n",
    "'''\n",
    "\n",
    "# DataFrame с вакансиями Data Science и дополнительным столбом со средней заработной платой\n",
    "df_bd = pd.read_sql_query(query2, connection)\n",
    "\n",
    "# Удаляем менее информативные столбцы salary_from и salary_to. В идеале нужно нужно продолжить работу по измененным данным\n",
    "df_bd.drop(['salary_from', 'salary_to'], axis=1, inplace=True)\n",
    "\n",
    "# Подсчитываем общее количество вакансий по всем группам\n",
    "df_bd.groupby('experience')['Средняя ЗП'].count().sum()"
   ]
  },
  {
   "cell_type": "markdown",
   "id": "0be6845f-055e-483f-932b-400343295211",
   "metadata": {},
   "source": [
    "**В результате преобразований у нас получилось выделить 480 вакансий из 536 которые можем использовать в выборке. Мы буквально переврнули проценты, из 84% неподходящих стало 89% подходящих!**\n",
    "\n",
    "### 2. Следующим фактором по популярности - Стабильность/устойчивость компании.\n",
    "\n",
    "**Если организация в состоянии свободно распоряжаться своими деньгами, эффективно их использовать, если у нее имеется налаженный механизм постоянного производства и продажи услуг или товаров, то мы можем считать такую организацию финансово устойчивой.\\\n",
    "Самым результативным вариантом является получение отчетности компаний в открытом доступе на сайте Федеральной Налоговой Службы через БФО\n",
    "Провести анализ каждой компании и отсортировать их по уровню надежности.**\n",
    "\n",
    "**(Другим вариантом было взять статистику самых популярных компаний России и с помощью регулярных выражений разложить столбец с именами работодателей по рейтингу)**\n",
    "\n",
    "### 3. Удобное расположение.\n",
    "**Можно добавить дополнительный признак, который будет содержать словарь: название города - координаты.** \n",
    "\n",
    "----\n",
    "\n",
    "**По этим трем признакам в первую очередь и будет идти поиск подходящей вакансии.**"
   ]
  },
  {
   "cell_type": "code",
   "execution_count": null,
   "id": "ae71d9aa-b617-49e6-ba6e-446b91ada9b5",
   "metadata": {},
   "outputs": [],
   "source": []
  },
  {
   "cell_type": "code",
   "execution_count": null,
   "id": "457a1d09-8290-40ce-9da1-ff8a2c974938",
   "metadata": {},
   "outputs": [],
   "source": []
  }
 ],
 "metadata": {
  "colab": {
   "collapsed_sections": [
    "8d62a9f3-f64e-4fe7-bdac-c4dffa16155e"
   ],
   "provenance": []
  },
  "kernelspec": {
   "display_name": "Python 3 (ipykernel)",
   "language": "python",
   "name": "python3"
  },
  "language_info": {
   "codemirror_mode": {
    "name": "ipython",
    "version": 3
   },
   "file_extension": ".py",
   "mimetype": "text/x-python",
   "name": "python",
   "nbconvert_exporter": "python",
   "pygments_lexer": "ipython3",
   "version": "3.12.2"
  }
 },
 "nbformat": 4,
 "nbformat_minor": 5
}
